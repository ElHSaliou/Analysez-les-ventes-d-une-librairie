{
 "cells": [
  {
   "cell_type": "markdown",
   "metadata": {},
   "source": [
    "Questions à répondre:\n",
    "- Calculer chiffres d'affaires( total, annuel,mensuel)\n",
    "- Evolution chifrre d'affaire mois d'octobre\n",
    "- moyenne mobile\n",
    "- Zoom sur les références\n",
    "- Repartition du CA par produits\n",
    "- Repartition des references parmis les categories\n",
    "- informations sur les profils de nos clients\n",
    "- Répartition du chiffre d'affaires entre les clients\n",
    "- Répartition des genres au sein de notre clientèle\n",
    "- Participation au chiffre d'affaires par genres\n",
    "- Analyse de la corrélation entre le sexe des clients et les catégories de produits achetés\n",
    "- Analyse de la corrélation entre l'âge clients et le montant total des achats\n",
    "- Analyse de la corrélation entre l'âge clients et la fréquence d'achat\n",
    "- Analyse de la corrélation entre l'âge clients et la taille du panier moyen\n",
    "- Analyse de la corrélation entre l'âge clients et la catégorie produits\n",
    "\n",
    "\n"
   ]
  },
  {
   "cell_type": "markdown",
   "metadata": {},
   "source": [
    "### 1.Import des librairies Python"
   ]
  },
  {
   "cell_type": "code",
   "execution_count": 2,
   "metadata": {},
   "outputs": [],
   "source": [
    "import pandas as pd\n",
    "import numpy as np\n",
    "import matplotlib.pyplot as plt\n",
    "import seaborn as sns\n",
    "from datetime import datetime\n",
    "import scipy.stats as st\n",
    "import statsmodels.api as sm\n",
    "from statsmodels.formula.api import ols\n",
    "from string import*\n",
    "from scipy.stats import kruskal, spearmanr, ttest_ind, chi2_contingency, pearsonr, shapiro\n",
    "colors = [\"#b2eca7\",\"#ffcc97\",\"#676283\",\"#72bbff\",\"#d2a0f2\",\"#0abdc0\"]"
   ]
  },
  {
   "cell_type": "markdown",
   "metadata": {},
   "source": [
    "## 2.Import des fichiers csv de la base de données de l’entreprise"
   ]
  },
  {
   "cell_type": "code",
   "execution_count": 3,
   "metadata": {},
   "outputs": [],
   "source": [
    "transactions = pd.read_csv(\"transactions.csv\")\n",
    "customers = pd.read_csv(\"customers.csv\")\n",
    "products = pd.read_csv(\"products.csv\")"
   ]
  },
  {
   "cell_type": "markdown",
   "metadata": {},
   "source": [
    "### 3.Nettoyage des données"
   ]
  },
  {
   "cell_type": "code",
   "execution_count": 3,
   "metadata": {},
   "outputs": [
    {
     "name": "stdout",
     "output_type": "stream",
     "text": [
      "Info des dataframes\n",
      "<class 'pandas.core.frame.DataFrame'>\n",
      "RangeIndex: 3287 entries, 0 to 3286\n",
      "Data columns (total 3 columns):\n",
      "id_prod    3287 non-null object\n",
      "price      3287 non-null float64\n",
      "categ      3287 non-null int64\n",
      "dtypes: float64(1), int64(1), object(1)\n",
      "memory usage: 77.1+ KB\n",
      "None\n",
      "*********\n",
      "<class 'pandas.core.frame.DataFrame'>\n",
      "RangeIndex: 8623 entries, 0 to 8622\n",
      "Data columns (total 3 columns):\n",
      "client_id    8623 non-null object\n",
      "sex          8623 non-null object\n",
      "birth        8623 non-null int64\n",
      "dtypes: int64(1), object(2)\n",
      "memory usage: 202.2+ KB\n",
      "None\n",
      "***********\n",
      "<class 'pandas.core.frame.DataFrame'>\n",
      "RangeIndex: 679532 entries, 0 to 679531\n",
      "Data columns (total 4 columns):\n",
      "id_prod       679532 non-null object\n",
      "date          679532 non-null object\n",
      "session_id    679532 non-null object\n",
      "client_id     679532 non-null object\n",
      "dtypes: object(4)\n",
      "memory usage: 20.7+ MB\n",
      "None\n",
      "------------------------\n",
      "Description des dataframes \n",
      "             price        categ\n",
      "count  3287.000000  3287.000000\n",
      "mean     21.856641     0.370246\n",
      "std      29.847908     0.615387\n",
      "min      -1.000000     0.000000\n",
      "25%       6.990000     0.000000\n",
      "50%      13.060000     0.000000\n",
      "75%      22.990000     1.000000\n",
      "max     300.000000     2.000000\n",
      "___________\n",
      "             birth\n",
      "count  8623.000000\n",
      "mean   1978.280877\n",
      "std      16.919535\n",
      "min    1929.000000\n",
      "25%    1966.000000\n",
      "50%    1979.000000\n",
      "75%    1992.000000\n",
      "max    2004.000000\n",
      "____________\n",
      "       id_prod                             date session_id client_id\n",
      "count   679532                           679532     679532    679532\n",
      "unique    3267                           679371     342316      8602\n",
      "top      1_369  test_2021-03-01 02:30:02.237413        s_0    c_1609\n",
      "freq      2252                               13        200     25488\n"
     ]
    }
   ],
   "source": [
    "#Visualisation des dataframes\n",
    "print(\"Info des dataframes\")\n",
    "print(products.info())\n",
    "print(\"*********\")\n",
    "print(customers.info())\n",
    "print(\"***********\")\n",
    "print(transactions.info())\n",
    "print(\"------------------------\")\n",
    "print(\"Description des dataframes \")\n",
    "print(products.describe())\n",
    "print(\"___________\")\n",
    "print(customers.describe())\n",
    "print(\"____________\")\n",
    "print(transactions.describe())\n"
   ]
  },
  {
   "cell_type": "code",
   "execution_count": 7,
   "metadata": {},
   "outputs": [
    {
     "name": "stdout",
     "output_type": "stream",
     "text": [
      "False\n",
      "False\n",
      "True\n"
     ]
    }
   ],
   "source": [
    "# Vérification des doublons des dataframes\n",
    "print(products.duplicated().values.any())\n",
    "print(customers.duplicated().values.any())\n",
    "print(transactions.duplicated().values.any())"
   ]
  },
  {
   "cell_type": "code",
   "execution_count": 8,
   "metadata": {},
   "outputs": [
    {
     "name": "stdout",
     "output_type": "stream",
     "text": [
      "126\n"
     ]
    }
   ],
   "source": [
    "# compter nombre de doublons dans dataframe transactions\n",
    "print(transactions.duplicated().sum())"
   ]
  },
  {
   "cell_type": "markdown",
   "metadata": {},
   "source": [
    "## Observations:"
   ]
  },
  {
   "cell_type": "markdown",
   "metadata": {},
   "source": [
    "### Observation dataframe Products:\n",
    "- Contient 3287 produits \n",
    "- categorie composé de 0,1 et 2 \n",
    "- prix compris de -1 à 300 \n",
    "- pas de valeurs nulles\n",
    "- pas de doublons"
   ]
  },
  {
   "cell_type": "markdown",
   "metadata": {},
   "source": [
    "### Observation dataframe customers:\n",
    "- Contient 8623 clients\n",
    "- sex composé de m et f\n",
    "- birth compris de 1929 à 2004\n",
    "- pas de valeurs nulles\n",
    "- pas de doublons\n"
   ]
  },
  {
   "cell_type": "markdown",
   "metadata": {},
   "source": [
    "### Observation dataframe transactions:\n",
    "- Contient 679532 transactions \n",
    "- pas de valeurs nulles\n",
    "- il y a 126 doublons avec le id_prod : T_0"
   ]
  },
  {
   "cell_type": "markdown",
   "metadata": {},
   "source": [
    "## 3.1 Correction du dataframe products :"
   ]
  },
  {
   "cell_type": "code",
   "execution_count": 9,
   "metadata": {},
   "outputs": [
    {
     "data": {
      "text/html": [
       "<div>\n",
       "<style scoped>\n",
       "    .dataframe tbody tr th:only-of-type {\n",
       "        vertical-align: middle;\n",
       "    }\n",
       "\n",
       "    .dataframe tbody tr th {\n",
       "        vertical-align: top;\n",
       "    }\n",
       "\n",
       "    .dataframe thead th {\n",
       "        text-align: right;\n",
       "    }\n",
       "</style>\n",
       "<table border=\"1\" class=\"dataframe\">\n",
       "  <thead>\n",
       "    <tr style=\"text-align: right;\">\n",
       "      <th></th>\n",
       "      <th>id_prod</th>\n",
       "      <th>price</th>\n",
       "      <th>categ</th>\n",
       "    </tr>\n",
       "  </thead>\n",
       "  <tbody>\n",
       "    <tr>\n",
       "      <th>731</th>\n",
       "      <td>T_0</td>\n",
       "      <td>-1.0</td>\n",
       "      <td>0</td>\n",
       "    </tr>\n",
       "  </tbody>\n",
       "</table>\n",
       "</div>"
      ],
      "text/plain": [
       "    id_prod  price  categ\n",
       "731     T_0   -1.0      0"
      ]
     },
     "execution_count": 9,
     "metadata": {},
     "output_type": "execute_result"
    }
   ],
   "source": [
    "# Suppression du price -1:\n",
    "products.loc[products['price']== -1,:]"
   ]
  },
  {
   "cell_type": "code",
   "execution_count": 10,
   "metadata": {},
   "outputs": [],
   "source": [
    "products.drop(products[(products[\"id_prod\"] == \"T_0\")].index, inplace=True)"
   ]
  },
  {
   "cell_type": "markdown",
   "metadata": {},
   "source": [
    "## 3.2 Correction du dataframe customers :"
   ]
  },
  {
   "cell_type": "code",
   "execution_count": 11,
   "metadata": {},
   "outputs": [
    {
     "data": {
      "text/html": [
       "<div>\n",
       "<style scoped>\n",
       "    .dataframe tbody tr th:only-of-type {\n",
       "        vertical-align: middle;\n",
       "    }\n",
       "\n",
       "    .dataframe tbody tr th {\n",
       "        vertical-align: top;\n",
       "    }\n",
       "\n",
       "    .dataframe thead th {\n",
       "        text-align: right;\n",
       "    }\n",
       "</style>\n",
       "<table border=\"1\" class=\"dataframe\">\n",
       "  <thead>\n",
       "    <tr style=\"text-align: right;\">\n",
       "      <th></th>\n",
       "      <th>client_id</th>\n",
       "      <th>sex</th>\n",
       "      <th>birth</th>\n",
       "    </tr>\n",
       "  </thead>\n",
       "  <tbody>\n",
       "    <tr>\n",
       "      <th>8494</th>\n",
       "      <td>ct_1</td>\n",
       "      <td>m</td>\n",
       "      <td>2001</td>\n",
       "    </tr>\n",
       "    <tr>\n",
       "      <th>2735</th>\n",
       "      <td>ct_0</td>\n",
       "      <td>f</td>\n",
       "      <td>2001</td>\n",
       "    </tr>\n",
       "    <tr>\n",
       "      <th>7358</th>\n",
       "      <td>c_999</td>\n",
       "      <td>m</td>\n",
       "      <td>1964</td>\n",
       "    </tr>\n",
       "    <tr>\n",
       "      <th>2145</th>\n",
       "      <td>c_998</td>\n",
       "      <td>m</td>\n",
       "      <td>2001</td>\n",
       "    </tr>\n",
       "    <tr>\n",
       "      <th>94</th>\n",
       "      <td>c_997</td>\n",
       "      <td>f</td>\n",
       "      <td>1994</td>\n",
       "    </tr>\n",
       "  </tbody>\n",
       "</table>\n",
       "</div>"
      ],
      "text/plain": [
       "     client_id sex  birth\n",
       "8494      ct_1   m   2001\n",
       "2735      ct_0   f   2001\n",
       "7358     c_999   m   1964\n",
       "2145     c_998   m   2001\n",
       "94       c_997   f   1994"
      ]
     },
     "execution_count": 11,
     "metadata": {},
     "output_type": "execute_result"
    }
   ],
   "source": [
    "customers.sort_values('client_id', ascending = False).head()"
   ]
  },
  {
   "cell_type": "code",
   "execution_count": 12,
   "metadata": {},
   "outputs": [
    {
     "data": {
      "text/html": [
       "<div>\n",
       "<style scoped>\n",
       "    .dataframe tbody tr th:only-of-type {\n",
       "        vertical-align: middle;\n",
       "    }\n",
       "\n",
       "    .dataframe tbody tr th {\n",
       "        vertical-align: top;\n",
       "    }\n",
       "\n",
       "    .dataframe thead th {\n",
       "        text-align: right;\n",
       "    }\n",
       "</style>\n",
       "<table border=\"1\" class=\"dataframe\">\n",
       "  <thead>\n",
       "    <tr style=\"text-align: right;\">\n",
       "      <th></th>\n",
       "      <th>client_id</th>\n",
       "      <th>sex</th>\n",
       "      <th>birth</th>\n",
       "    </tr>\n",
       "  </thead>\n",
       "  <tbody>\n",
       "    <tr>\n",
       "      <th>3426</th>\n",
       "      <td>c_1001</td>\n",
       "      <td>m</td>\n",
       "      <td>1982</td>\n",
       "    </tr>\n",
       "    <tr>\n",
       "      <th>8472</th>\n",
       "      <td>c_1000</td>\n",
       "      <td>f</td>\n",
       "      <td>1966</td>\n",
       "    </tr>\n",
       "    <tr>\n",
       "      <th>2137</th>\n",
       "      <td>c_100</td>\n",
       "      <td>m</td>\n",
       "      <td>1992</td>\n",
       "    </tr>\n",
       "    <tr>\n",
       "      <th>6894</th>\n",
       "      <td>c_10</td>\n",
       "      <td>m</td>\n",
       "      <td>1956</td>\n",
       "    </tr>\n",
       "    <tr>\n",
       "      <th>4299</th>\n",
       "      <td>c_1</td>\n",
       "      <td>m</td>\n",
       "      <td>1955</td>\n",
       "    </tr>\n",
       "  </tbody>\n",
       "</table>\n",
       "</div>"
      ],
      "text/plain": [
       "     client_id sex  birth\n",
       "3426    c_1001   m   1982\n",
       "8472    c_1000   f   1966\n",
       "2137     c_100   m   1992\n",
       "6894      c_10   m   1956\n",
       "4299       c_1   m   1955"
      ]
     },
     "execution_count": 12,
     "metadata": {},
     "output_type": "execute_result"
    }
   ],
   "source": [
    "customers.sort_values('client_id', ascending = False).tail()"
   ]
  },
  {
   "cell_type": "markdown",
   "metadata": {},
   "source": [
    " Dans la colonne client_id, ct_1 et ct_2 n'ont pas la même formrne d'écriture que les autres, le \"ct\" ressemble à un identifiant de test."
   ]
  },
  {
   "cell_type": "code",
   "execution_count": 13,
   "metadata": {},
   "outputs": [],
   "source": [
    "#Suppression des deux lignes client_id ct_1 et ct_2\n",
    "customers = customers[(customers.client_id != 'ct_0') & (customers.client_id != 'ct_1')]"
   ]
  },
  {
   "cell_type": "markdown",
   "metadata": {},
   "source": [
    "## 3.2 Correction du dataframe transactions :"
   ]
  },
  {
   "cell_type": "code",
   "execution_count": 14,
   "metadata": {},
   "outputs": [],
   "source": [
    "# On supprime les 126 doublons dand le dataframe transactions\n",
    "transactions = transactions.drop_duplicates()"
   ]
  },
  {
   "cell_type": "code",
   "execution_count": 15,
   "metadata": {},
   "outputs": [],
   "source": [
    "transactions = transactions[~transactions.date.str.contains(\"test\")]"
   ]
  },
  {
   "cell_type": "code",
   "execution_count": 16,
   "metadata": {},
   "outputs": [
    {
     "data": {
      "text/plain": [
       "id_prod       object\n",
       "date          object\n",
       "session_id    object\n",
       "client_id     object\n",
       "dtype: object"
      ]
     },
     "execution_count": 16,
     "metadata": {},
     "output_type": "execute_result"
    }
   ],
   "source": [
    "transactions.dtypes"
   ]
  },
  {
   "cell_type": "code",
   "execution_count": 17,
   "metadata": {},
   "outputs": [
    {
     "data": {
      "text/plain": [
       "id_prod               object\n",
       "date          datetime64[ns]\n",
       "session_id            object\n",
       "client_id             object\n",
       "dtype: object"
      ]
     },
     "execution_count": 17,
     "metadata": {},
     "output_type": "execute_result"
    }
   ],
   "source": [
    "#Conversion des valeurs de la colonne 'date' en format date \n",
    "transactions.date=pd.to_datetime(transactions.date)\n",
    "transactions.date=transactions.date.dt.strftime('%Y-%m-%d')\n",
    "transactions['date'] =  pd.to_datetime(transactions['date'])\n",
    "\n",
    "transactions.dtypes"
   ]
  },
  {
   "cell_type": "markdown",
   "metadata": {},
   "source": [
    "## 4.Jointure des dataframes:"
   ]
  },
  {
   "cell_type": "code",
   "execution_count": 18,
   "metadata": {},
   "outputs": [
    {
     "data": {
      "text/html": [
       "<div>\n",
       "<style scoped>\n",
       "    .dataframe tbody tr th:only-of-type {\n",
       "        vertical-align: middle;\n",
       "    }\n",
       "\n",
       "    .dataframe tbody tr th {\n",
       "        vertical-align: top;\n",
       "    }\n",
       "\n",
       "    .dataframe thead th {\n",
       "        text-align: right;\n",
       "    }\n",
       "</style>\n",
       "<table border=\"1\" class=\"dataframe\">\n",
       "  <thead>\n",
       "    <tr style=\"text-align: right;\">\n",
       "      <th></th>\n",
       "      <th>id_prod</th>\n",
       "      <th>date</th>\n",
       "      <th>session_id</th>\n",
       "      <th>client_id</th>\n",
       "      <th>sex</th>\n",
       "      <th>birth</th>\n",
       "    </tr>\n",
       "  </thead>\n",
       "  <tbody>\n",
       "    <tr>\n",
       "      <th>0</th>\n",
       "      <td>0_1518</td>\n",
       "      <td>2022-05-20</td>\n",
       "      <td>s_211425</td>\n",
       "      <td>c_103</td>\n",
       "      <td>f</td>\n",
       "      <td>1986</td>\n",
       "    </tr>\n",
       "    <tr>\n",
       "      <th>1</th>\n",
       "      <td>1_251</td>\n",
       "      <td>2022-02-02</td>\n",
       "      <td>s_158752</td>\n",
       "      <td>c_8534</td>\n",
       "      <td>m</td>\n",
       "      <td>1988</td>\n",
       "    </tr>\n",
       "    <tr>\n",
       "      <th>2</th>\n",
       "      <td>0_1277</td>\n",
       "      <td>2022-06-18</td>\n",
       "      <td>s_225667</td>\n",
       "      <td>c_6714</td>\n",
       "      <td>f</td>\n",
       "      <td>1968</td>\n",
       "    </tr>\n",
       "    <tr>\n",
       "      <th>3</th>\n",
       "      <td>2_209</td>\n",
       "      <td>2021-06-24</td>\n",
       "      <td>s_52962</td>\n",
       "      <td>c_6941</td>\n",
       "      <td>m</td>\n",
       "      <td>2000</td>\n",
       "    </tr>\n",
       "    <tr>\n",
       "      <th>4</th>\n",
       "      <td>0_1509</td>\n",
       "      <td>2023-01-11</td>\n",
       "      <td>s_325227</td>\n",
       "      <td>c_4232</td>\n",
       "      <td>m</td>\n",
       "      <td>1980</td>\n",
       "    </tr>\n",
       "  </tbody>\n",
       "</table>\n",
       "</div>"
      ],
      "text/plain": [
       "  id_prod       date session_id client_id sex  birth\n",
       "0  0_1518 2022-05-20   s_211425     c_103   f   1986\n",
       "1   1_251 2022-02-02   s_158752    c_8534   m   1988\n",
       "2  0_1277 2022-06-18   s_225667    c_6714   f   1968\n",
       "3   2_209 2021-06-24    s_52962    c_6941   m   2000\n",
       "4  0_1509 2023-01-11   s_325227    c_4232   m   1980"
      ]
     },
     "execution_count": 18,
     "metadata": {},
     "output_type": "execute_result"
    }
   ],
   "source": [
    "#Premiere jointure des valeurs des dataframes transactions et customers\n",
    "transactions_customers = pd.merge(transactions, customers, on=\"client_id\", how=\"left\")\n",
    "transactions_customers.head()"
   ]
  },
  {
   "cell_type": "code",
   "execution_count": 19,
   "metadata": {},
   "outputs": [
    {
     "data": {
      "text/html": [
       "<div>\n",
       "<style scoped>\n",
       "    .dataframe tbody tr th:only-of-type {\n",
       "        vertical-align: middle;\n",
       "    }\n",
       "\n",
       "    .dataframe tbody tr th {\n",
       "        vertical-align: top;\n",
       "    }\n",
       "\n",
       "    .dataframe thead th {\n",
       "        text-align: right;\n",
       "    }\n",
       "</style>\n",
       "<table border=\"1\" class=\"dataframe\">\n",
       "  <thead>\n",
       "    <tr style=\"text-align: right;\">\n",
       "      <th></th>\n",
       "      <th>id_prod</th>\n",
       "      <th>date</th>\n",
       "      <th>session_id</th>\n",
       "      <th>client_id</th>\n",
       "      <th>sex</th>\n",
       "      <th>birth</th>\n",
       "      <th>price</th>\n",
       "      <th>categ</th>\n",
       "    </tr>\n",
       "  </thead>\n",
       "  <tbody>\n",
       "    <tr>\n",
       "      <th>0</th>\n",
       "      <td>0_1518</td>\n",
       "      <td>2022-05-20</td>\n",
       "      <td>s_211425</td>\n",
       "      <td>c_103</td>\n",
       "      <td>f</td>\n",
       "      <td>1986</td>\n",
       "      <td>4.18</td>\n",
       "      <td>0.0</td>\n",
       "    </tr>\n",
       "    <tr>\n",
       "      <th>1</th>\n",
       "      <td>1_251</td>\n",
       "      <td>2022-02-02</td>\n",
       "      <td>s_158752</td>\n",
       "      <td>c_8534</td>\n",
       "      <td>m</td>\n",
       "      <td>1988</td>\n",
       "      <td>15.99</td>\n",
       "      <td>1.0</td>\n",
       "    </tr>\n",
       "    <tr>\n",
       "      <th>2</th>\n",
       "      <td>0_1277</td>\n",
       "      <td>2022-06-18</td>\n",
       "      <td>s_225667</td>\n",
       "      <td>c_6714</td>\n",
       "      <td>f</td>\n",
       "      <td>1968</td>\n",
       "      <td>7.99</td>\n",
       "      <td>0.0</td>\n",
       "    </tr>\n",
       "    <tr>\n",
       "      <th>3</th>\n",
       "      <td>2_209</td>\n",
       "      <td>2021-06-24</td>\n",
       "      <td>s_52962</td>\n",
       "      <td>c_6941</td>\n",
       "      <td>m</td>\n",
       "      <td>2000</td>\n",
       "      <td>69.99</td>\n",
       "      <td>2.0</td>\n",
       "    </tr>\n",
       "    <tr>\n",
       "      <th>4</th>\n",
       "      <td>0_1509</td>\n",
       "      <td>2023-01-11</td>\n",
       "      <td>s_325227</td>\n",
       "      <td>c_4232</td>\n",
       "      <td>m</td>\n",
       "      <td>1980</td>\n",
       "      <td>4.99</td>\n",
       "      <td>0.0</td>\n",
       "    </tr>\n",
       "  </tbody>\n",
       "</table>\n",
       "</div>"
      ],
      "text/plain": [
       "  id_prod       date session_id client_id sex  birth  price  categ\n",
       "0  0_1518 2022-05-20   s_211425     c_103   f   1986   4.18    0.0\n",
       "1   1_251 2022-02-02   s_158752    c_8534   m   1988  15.99    1.0\n",
       "2  0_1277 2022-06-18   s_225667    c_6714   f   1968   7.99    0.0\n",
       "3   2_209 2021-06-24    s_52962    c_6941   m   2000  69.99    2.0\n",
       "4  0_1509 2023-01-11   s_325227    c_4232   m   1980   4.99    0.0"
      ]
     },
     "execution_count": 19,
     "metadata": {},
     "output_type": "execute_result"
    }
   ],
   "source": [
    "#Seconde jointure des valeurs des dataframes transactions_customers et products\n",
    "data_complet = pd.merge(transactions_customers, products, on=\"id_prod\", how=\"left\")\n",
    "data_complet.head()"
   ]
  },
  {
   "cell_type": "code",
   "execution_count": 20,
   "metadata": {},
   "outputs": [
    {
     "data": {
      "text/plain": [
       "id_prod         0\n",
       "date            0\n",
       "session_id      0\n",
       "client_id       0\n",
       "sex             0\n",
       "birth           0\n",
       "price         221\n",
       "categ         221\n",
       "dtype: int64"
      ]
     },
     "execution_count": 20,
     "metadata": {},
     "output_type": "execute_result"
    }
   ],
   "source": [
    "#Vérification d'éventuelles valeurs manquantes \n",
    "data_complet.isnull().sum()"
   ]
  },
  {
   "cell_type": "code",
   "execution_count": 21,
   "metadata": {},
   "outputs": [],
   "source": [
    "#Création d'un dataframe ciblant uniquement ces NaN\n",
    "missing_values = data_complet[data_complet.categ.isnull() == True]"
   ]
  },
  {
   "cell_type": "code",
   "execution_count": 22,
   "metadata": {},
   "outputs": [
    {
     "data": {
      "text/plain": [
       "array(['0_2245'], dtype=object)"
      ]
     },
     "execution_count": 22,
     "metadata": {},
     "output_type": "execute_result"
    }
   ],
   "source": [
    "#Recherche du ou des produits concernés\n",
    "missing_values.id_prod.unique()"
   ]
  },
  {
   "cell_type": "markdown",
   "metadata": {},
   "source": [
    "Seul le produit id 0_2245 est concerné par les valeurs manquantes."
   ]
  },
  {
   "cell_type": "code",
   "execution_count": 23,
   "metadata": {},
   "outputs": [
    {
     "name": "stdout",
     "output_type": "stream",
     "text": [
      "11.732794627383296\n"
     ]
    },
    {
     "data": {
      "text/html": [
       "<div>\n",
       "<style scoped>\n",
       "    .dataframe tbody tr th:only-of-type {\n",
       "        vertical-align: middle;\n",
       "    }\n",
       "\n",
       "    .dataframe tbody tr th {\n",
       "        vertical-align: top;\n",
       "    }\n",
       "\n",
       "    .dataframe thead th {\n",
       "        text-align: right;\n",
       "    }\n",
       "</style>\n",
       "<table border=\"1\" class=\"dataframe\">\n",
       "  <thead>\n",
       "    <tr style=\"text-align: right;\">\n",
       "      <th></th>\n",
       "      <th>id_prod</th>\n",
       "      <th>price</th>\n",
       "      <th>categ</th>\n",
       "    </tr>\n",
       "  </thead>\n",
       "  <tbody>\n",
       "    <tr>\n",
       "      <th>3286</th>\n",
       "      <td>0_2245</td>\n",
       "      <td>11.732795</td>\n",
       "      <td>0</td>\n",
       "    </tr>\n",
       "  </tbody>\n",
       "</table>\n",
       "</div>"
      ],
      "text/plain": [
       "     id_prod      price  categ\n",
       "3286  0_2245  11.732795      0"
      ]
     },
     "execution_count": 23,
     "metadata": {},
     "output_type": "execute_result"
    }
   ],
   "source": [
    "# On ajoute le produits 0_2245 dans le dataframe produits en remplacant les prix NaN par le prix moyen\n",
    "mean_price =products.query(\"categ==0\")['price'].mean()\n",
    "print(mean_price)\n",
    "new_row = {'id_prod': '0_2245', 'price':mean_price, 'categ':0}\n",
    "products= products.append(new_row, ignore_index=True)\n",
    "products.loc[products['id_prod']== '0_2245',:]"
   ]
  },
  {
   "cell_type": "code",
   "execution_count": 24,
   "metadata": {},
   "outputs": [
    {
     "data": {
      "text/html": [
       "<div>\n",
       "<style scoped>\n",
       "    .dataframe tbody tr th:only-of-type {\n",
       "        vertical-align: middle;\n",
       "    }\n",
       "\n",
       "    .dataframe tbody tr th {\n",
       "        vertical-align: top;\n",
       "    }\n",
       "\n",
       "    .dataframe thead th {\n",
       "        text-align: right;\n",
       "    }\n",
       "</style>\n",
       "<table border=\"1\" class=\"dataframe\">\n",
       "  <thead>\n",
       "    <tr style=\"text-align: right;\">\n",
       "      <th></th>\n",
       "      <th>id_prod</th>\n",
       "      <th>date</th>\n",
       "      <th>session_id</th>\n",
       "      <th>client_id</th>\n",
       "      <th>sex</th>\n",
       "      <th>birth</th>\n",
       "      <th>price</th>\n",
       "      <th>categ</th>\n",
       "    </tr>\n",
       "  </thead>\n",
       "  <tbody>\n",
       "  </tbody>\n",
       "</table>\n",
       "</div>"
      ],
      "text/plain": [
       "Empty DataFrame\n",
       "Columns: [id_prod, date, session_id, client_id, sex, birth, price, categ]\n",
       "Index: []"
      ]
     },
     "execution_count": 24,
     "metadata": {},
     "output_type": "execute_result"
    }
   ],
   "source": [
    "data_complet[data_complet.date.isnull() == True]"
   ]
  },
  {
   "cell_type": "code",
   "execution_count": 25,
   "metadata": {},
   "outputs": [],
   "source": [
    "data_complet = data_complet.dropna()"
   ]
  },
  {
   "cell_type": "code",
   "execution_count": 26,
   "metadata": {},
   "outputs": [
    {
     "data": {
      "text/plain": [
       "id_prod       0\n",
       "date          0\n",
       "session_id    0\n",
       "client_id     0\n",
       "sex           0\n",
       "birth         0\n",
       "price         0\n",
       "categ         0\n",
       "dtype: int64"
      ]
     },
     "execution_count": 26,
     "metadata": {},
     "output_type": "execute_result"
    }
   ],
   "source": [
    "#Nouvelle vérification des valeurs manquantes\n",
    "data_complet.isnull().sum()"
   ]
  },
  {
   "cell_type": "code",
   "execution_count": 27,
   "metadata": {},
   "outputs": [
    {
     "name": "stdout",
     "output_type": "stream",
     "text": [
      "Informations sur la nouvelle table data :\n",
      "\n",
      "<class 'pandas.core.frame.DataFrame'>\n",
      "Int64Index: 679111 entries, 0 to 679331\n",
      "Data columns (total 13 columns):\n",
      "id_prod       679111 non-null object\n",
      "date          679111 non-null datetime64[ns]\n",
      "session_id    679111 non-null object\n",
      "client_id     679111 non-null object\n",
      "sex           679111 non-null object\n",
      "birth         679111 non-null int64\n",
      "price         679111 non-null float64\n",
      "categ         679111 non-null float64\n",
      "date_y        679111 non-null object\n",
      "date_m        679111 non-null object\n",
      "date_d        679111 non-null object\n",
      "date_y_m_d    679111 non-null object\n",
      "date_y_m      679111 non-null object\n",
      "dtypes: datetime64[ns](1), float64(2), int64(1), object(9)\n",
      "memory usage: 72.5+ MB\n",
      "\n",
      "Table data avec la colonne date_y_m :\n"
     ]
    },
    {
     "data": {
      "text/html": [
       "<div>\n",
       "<style scoped>\n",
       "    .dataframe tbody tr th:only-of-type {\n",
       "        vertical-align: middle;\n",
       "    }\n",
       "\n",
       "    .dataframe tbody tr th {\n",
       "        vertical-align: top;\n",
       "    }\n",
       "\n",
       "    .dataframe thead th {\n",
       "        text-align: right;\n",
       "    }\n",
       "</style>\n",
       "<table border=\"1\" class=\"dataframe\">\n",
       "  <thead>\n",
       "    <tr style=\"text-align: right;\">\n",
       "      <th></th>\n",
       "      <th>id_prod</th>\n",
       "      <th>date</th>\n",
       "      <th>session_id</th>\n",
       "      <th>client_id</th>\n",
       "      <th>sex</th>\n",
       "      <th>birth</th>\n",
       "      <th>price</th>\n",
       "      <th>categ</th>\n",
       "      <th>date_y</th>\n",
       "      <th>date_m</th>\n",
       "      <th>date_d</th>\n",
       "      <th>date_y_m_d</th>\n",
       "      <th>date_y_m</th>\n",
       "    </tr>\n",
       "  </thead>\n",
       "  <tbody>\n",
       "    <tr>\n",
       "      <th>0</th>\n",
       "      <td>0_1518</td>\n",
       "      <td>2022-05-20</td>\n",
       "      <td>s_211425</td>\n",
       "      <td>c_103</td>\n",
       "      <td>f</td>\n",
       "      <td>1986</td>\n",
       "      <td>4.18</td>\n",
       "      <td>0.0</td>\n",
       "      <td>2022</td>\n",
       "      <td>05</td>\n",
       "      <td>20</td>\n",
       "      <td>2022-05-20</td>\n",
       "      <td>2022-05</td>\n",
       "    </tr>\n",
       "    <tr>\n",
       "      <th>1</th>\n",
       "      <td>1_251</td>\n",
       "      <td>2022-02-02</td>\n",
       "      <td>s_158752</td>\n",
       "      <td>c_8534</td>\n",
       "      <td>m</td>\n",
       "      <td>1988</td>\n",
       "      <td>15.99</td>\n",
       "      <td>1.0</td>\n",
       "      <td>2022</td>\n",
       "      <td>02</td>\n",
       "      <td>02</td>\n",
       "      <td>2022-02-02</td>\n",
       "      <td>2022-02</td>\n",
       "    </tr>\n",
       "    <tr>\n",
       "      <th>2</th>\n",
       "      <td>0_1277</td>\n",
       "      <td>2022-06-18</td>\n",
       "      <td>s_225667</td>\n",
       "      <td>c_6714</td>\n",
       "      <td>f</td>\n",
       "      <td>1968</td>\n",
       "      <td>7.99</td>\n",
       "      <td>0.0</td>\n",
       "      <td>2022</td>\n",
       "      <td>06</td>\n",
       "      <td>18</td>\n",
       "      <td>2022-06-18</td>\n",
       "      <td>2022-06</td>\n",
       "    </tr>\n",
       "    <tr>\n",
       "      <th>3</th>\n",
       "      <td>2_209</td>\n",
       "      <td>2021-06-24</td>\n",
       "      <td>s_52962</td>\n",
       "      <td>c_6941</td>\n",
       "      <td>m</td>\n",
       "      <td>2000</td>\n",
       "      <td>69.99</td>\n",
       "      <td>2.0</td>\n",
       "      <td>2021</td>\n",
       "      <td>06</td>\n",
       "      <td>24</td>\n",
       "      <td>2021-06-24</td>\n",
       "      <td>2021-06</td>\n",
       "    </tr>\n",
       "    <tr>\n",
       "      <th>4</th>\n",
       "      <td>0_1509</td>\n",
       "      <td>2023-01-11</td>\n",
       "      <td>s_325227</td>\n",
       "      <td>c_4232</td>\n",
       "      <td>m</td>\n",
       "      <td>1980</td>\n",
       "      <td>4.99</td>\n",
       "      <td>0.0</td>\n",
       "      <td>2023</td>\n",
       "      <td>01</td>\n",
       "      <td>11</td>\n",
       "      <td>2023-01-11</td>\n",
       "      <td>2023-01</td>\n",
       "    </tr>\n",
       "  </tbody>\n",
       "</table>\n",
       "</div>"
      ],
      "text/plain": [
       "  id_prod       date session_id client_id sex  birth  price  categ date_y  \\\n",
       "0  0_1518 2022-05-20   s_211425     c_103   f   1986   4.18    0.0   2022   \n",
       "1   1_251 2022-02-02   s_158752    c_8534   m   1988  15.99    1.0   2022   \n",
       "2  0_1277 2022-06-18   s_225667    c_6714   f   1968   7.99    0.0   2022   \n",
       "3   2_209 2021-06-24    s_52962    c_6941   m   2000  69.99    2.0   2021   \n",
       "4  0_1509 2023-01-11   s_325227    c_4232   m   1980   4.99    0.0   2023   \n",
       "\n",
       "  date_m date_d  date_y_m_d date_y_m  \n",
       "0     05     20  2022-05-20  2022-05  \n",
       "1     02     02  2022-02-02  2022-02  \n",
       "2     06     18  2022-06-18  2022-06  \n",
       "3     06     24  2021-06-24  2021-06  \n",
       "4     01     11  2023-01-11  2023-01  "
      ]
     },
     "execution_count": 27,
     "metadata": {},
     "output_type": "execute_result"
    }
   ],
   "source": [
    "# Extraction de l'année, du mois et du jour dans 3 nouvelles colonnes\n",
    "\n",
    "data_complet[\"date_y\"] = data_complet[\"date\"].dt.strftime(\"%Y\")\n",
    "data_complet[\"date_m\"] = data_complet[\"date\"].dt.strftime(\"%m\")\n",
    "data_complet[\"date_d\"] = data_complet[\"date\"].dt.strftime(\"%d\")\n",
    "\n",
    "# Regroupement de l'année, du mois et du jour dans une colonne date_y_m_d\n",
    "\n",
    "data_complet[\"date_y_m_d\"] = data_complet[\"date_y\"] + \"-\" + data_complet[\"date_m\"] + \"-\" + data_complet[\"date_d\"]\n",
    "\n",
    "# Regroupement de l'année et du mois dans une colonne date_y_m\n",
    "\n",
    "data_complet[\"date_y_m\"] = data_complet[\"date_y\"] + \"-\" + data_complet[\"date_m\"]\n",
    "\n",
    "# Affichage et infos de la nouvelle table\n",
    "\n",
    "print(\"Informations sur la nouvelle table data :\\n\")\n",
    "data_complet.info()\n",
    "print(\"\\nTable data avec la colonne date_y_m :\")\n",
    "data_complet.head()"
   ]
  },
  {
   "cell_type": "markdown",
   "metadata": {},
   "source": [
    "   # 5.Réponse à Antoine "
   ]
  },
  {
   "cell_type": "markdown",
   "metadata": {},
   "source": [
    "### 5.1 Analyse de l'évolution du chiffre d'affaires total ,annuel et mensuel"
   ]
  },
  {
   "cell_type": "code",
   "execution_count": 28,
   "metadata": {},
   "outputs": [
    {
     "name": "stdout",
     "output_type": "stream",
     "text": [
      "Le chiffre d'affaires total est de 11853728.68 €\n",
      "le nombre total d'articles vendus 679111\n"
     ]
    }
   ],
   "source": [
    "# Calcul chiffre d'affaires total et nombre total d'articles vendus\n",
    "ca_total = round(data_complet[\"price\"].sum(),2)\n",
    "print(\"Le chiffre d'affaires total est de\", ca_total, \"€\")\n",
    "Nbre_ventes = data_complet[\"session_id\"].count()\n",
    "print(\"le nombre total d'articles vendus\",Nbre_ventes)"
   ]
  },
  {
   "cell_type": "code",
   "execution_count": 29,
   "metadata": {},
   "outputs": [
    {
     "name": "stdout",
     "output_type": "stream",
     "text": [
      "Chiffres d'affaires annuels:\n",
      "   date_y         price\n",
      "0   2021  4.770827e+06\n",
      "1   2022  6.108682e+06\n",
      "2   2023  9.742203e+05\n",
      "Nombre de ventes annuelles:\n",
      " date_y\n",
      "2021    278248\n",
      "2022    346380\n",
      "2023     54483\n",
      "Name: session_id, dtype: int64\n"
     ]
    }
   ],
   "source": [
    "# Calcul du chiffre d'affaires annuel et nombre de ventes annuel\n",
    "ca_annuel = data_complet.groupby([\"date_y\"])[[\"price\"]].sum()\n",
    "ca_annuel.reset_index(inplace = True)\n",
    "print(\"Chiffres d'affaires annuels:\\n\", ca_annuel)\n",
    "ventes_annuelles = data_complet.groupby([\"date_y\"])[\"session_id\"].count()\n",
    "print(\"Nombre de ventes annuelles:\\n\", ventes_annuelles)"
   ]
  },
  {
   "cell_type": "code",
   "execution_count": 30,
   "metadata": {},
   "outputs": [
    {
     "data": {
      "text/plain": [
       "<BarContainer object of 3 artists>"
      ]
     },
     "execution_count": 30,
     "metadata": {},
     "output_type": "execute_result"
    },
    {
     "data": {
      "image/png": "[encoded data removed]",
      "text/plain": [
       "<Figure size 432x288 with 1 Axes>"
      ]
     },
     "metadata": {
      "needs_background": "light"
     },
     "output_type": "display_data"
    }
   ],
   "source": [
    "# Diagramme en bâtons du chiffres d'affaires annuel\n",
    "ca_annuel_sorted= ca_annuel.sort_values('price', ascending=False)\n",
    "plt.bar(height=ca_annuel_sorted['price'], x=ca_annuel_sorted['date_y'])"
   ]
  },
  {
   "cell_type": "code",
   "execution_count": 31,
   "metadata": {},
   "outputs": [
    {
     "data": {
      "text/html": [
       "<div>\n",
       "<style scoped>\n",
       "    .dataframe tbody tr th:only-of-type {\n",
       "        vertical-align: middle;\n",
       "    }\n",
       "\n",
       "    .dataframe tbody tr th {\n",
       "        vertical-align: top;\n",
       "    }\n",
       "\n",
       "    .dataframe thead th {\n",
       "        text-align: right;\n",
       "    }\n",
       "</style>\n",
       "<table border=\"1\" class=\"dataframe\">\n",
       "  <thead>\n",
       "    <tr style=\"text-align: right;\">\n",
       "      <th></th>\n",
       "      <th>date_y_m</th>\n",
       "      <th>price</th>\n",
       "    </tr>\n",
       "  </thead>\n",
       "  <tbody>\n",
       "    <tr>\n",
       "      <th>0</th>\n",
       "      <td>2021-03</td>\n",
       "      <td>482440.61</td>\n",
       "    </tr>\n",
       "    <tr>\n",
       "      <th>1</th>\n",
       "      <td>2021-04</td>\n",
       "      <td>476109.30</td>\n",
       "    </tr>\n",
       "    <tr>\n",
       "      <th>2</th>\n",
       "      <td>2021-05</td>\n",
       "      <td>492943.47</td>\n",
       "    </tr>\n",
       "    <tr>\n",
       "      <th>3</th>\n",
       "      <td>2021-06</td>\n",
       "      <td>484088.56</td>\n",
       "    </tr>\n",
       "    <tr>\n",
       "      <th>4</th>\n",
       "      <td>2021-07</td>\n",
       "      <td>482835.40</td>\n",
       "    </tr>\n",
       "  </tbody>\n",
       "</table>\n",
       "</div>"
      ],
      "text/plain": [
       "  date_y_m      price\n",
       "0  2021-03  482440.61\n",
       "1  2021-04  476109.30\n",
       "2  2021-05  492943.47\n",
       "3  2021-06  484088.56\n",
       "4  2021-07  482835.40"
      ]
     },
     "execution_count": 31,
     "metadata": {},
     "output_type": "execute_result"
    }
   ],
   "source": [
    "# Calcul chiffre d'affaires mensuel:\n",
    "ca_mensuel = data_complet.groupby([\"date_y_m\"])[[\"price\"]].sum()\n",
    "ca_mensuel.reset_index(inplace=True)\n",
    "ca_mensuel.head()"
   ]
  },
  {
   "cell_type": "code",
   "execution_count": 32,
   "metadata": {},
   "outputs": [
    {
     "name": "stderr",
     "output_type": "stream",
     "text": [
      "No handles with labels found to put in legend.\n"
     ]
    },
    {
     "data": {
      "text/plain": [
       "<matplotlib.legend.Legend at 0x27526550>"
      ]
     },
     "execution_count": 32,
     "metadata": {},
     "output_type": "execute_result"
    },
    {
     "data": {
      "image/png": "[encoded data removed]",
      "text/plain": [
       "<Figure size 1584x576 with 1 Axes>"
      ]
     },
     "metadata": {
      "needs_background": "light"
     },
     "output_type": "display_data"
    }
   ],
   "source": [
    "# évolution du CA mensuel\n",
    "plt.figure(figsize = (22,8))\n",
    "plt.plot(ca_mensuel['date_y_m'], ca_mensuel[\"price\"])\n",
    "plt.xlabel('Date (mois)')\n",
    "plt.ylabel(\"CA (€)\")\n",
    "plt.title(\"CA par mois\")\n",
    "plt.legend()"
   ]
  },
  {
   "cell_type": "markdown",
   "metadata": {},
   "source": [
    " Baisse du chiffre d'affaires  en octobre."
   ]
  },
  {
   "cell_type": "markdown",
   "metadata": {},
   "source": [
    "### 5.2 Etude de la baisse du chiffre d'affaires en octobre."
   ]
  },
  {
   "cell_type": "code",
   "execution_count": 33,
   "metadata": {},
   "outputs": [
    {
     "data": {
      "text/html": [
       "<div>\n",
       "<style scoped>\n",
       "    .dataframe tbody tr th:only-of-type {\n",
       "        vertical-align: middle;\n",
       "    }\n",
       "\n",
       "    .dataframe tbody tr th {\n",
       "        vertical-align: top;\n",
       "    }\n",
       "\n",
       "    .dataframe thead th {\n",
       "        text-align: right;\n",
       "    }\n",
       "</style>\n",
       "<table border=\"1\" class=\"dataframe\">\n",
       "  <thead>\n",
       "    <tr style=\"text-align: right;\">\n",
       "      <th></th>\n",
       "      <th>id_prod</th>\n",
       "      <th>session_id</th>\n",
       "      <th>client_id</th>\n",
       "      <th>sex</th>\n",
       "      <th>birth</th>\n",
       "      <th>price</th>\n",
       "      <th>categ</th>\n",
       "      <th>date_y</th>\n",
       "      <th>date_m</th>\n",
       "      <th>date_d</th>\n",
       "      <th>date_y_m_d</th>\n",
       "      <th>date_y_m</th>\n",
       "    </tr>\n",
       "  </thead>\n",
       "  <tbody>\n",
       "    <tr>\n",
       "      <th>0</th>\n",
       "      <td>0_1518</td>\n",
       "      <td>s_211425</td>\n",
       "      <td>c_103</td>\n",
       "      <td>f</td>\n",
       "      <td>1986</td>\n",
       "      <td>4.18</td>\n",
       "      <td>0.0</td>\n",
       "      <td>2022</td>\n",
       "      <td>05</td>\n",
       "      <td>20</td>\n",
       "      <td>2022-05-20</td>\n",
       "      <td>2022-05</td>\n",
       "    </tr>\n",
       "    <tr>\n",
       "      <th>1</th>\n",
       "      <td>1_251</td>\n",
       "      <td>s_158752</td>\n",
       "      <td>c_8534</td>\n",
       "      <td>m</td>\n",
       "      <td>1988</td>\n",
       "      <td>15.99</td>\n",
       "      <td>1.0</td>\n",
       "      <td>2022</td>\n",
       "      <td>02</td>\n",
       "      <td>02</td>\n",
       "      <td>2022-02-02</td>\n",
       "      <td>2022-02</td>\n",
       "    </tr>\n",
       "    <tr>\n",
       "      <th>2</th>\n",
       "      <td>0_1277</td>\n",
       "      <td>s_225667</td>\n",
       "      <td>c_6714</td>\n",
       "      <td>f</td>\n",
       "      <td>1968</td>\n",
       "      <td>7.99</td>\n",
       "      <td>0.0</td>\n",
       "      <td>2022</td>\n",
       "      <td>06</td>\n",
       "      <td>18</td>\n",
       "      <td>2022-06-18</td>\n",
       "      <td>2022-06</td>\n",
       "    </tr>\n",
       "    <tr>\n",
       "      <th>3</th>\n",
       "      <td>2_209</td>\n",
       "      <td>s_52962</td>\n",
       "      <td>c_6941</td>\n",
       "      <td>m</td>\n",
       "      <td>2000</td>\n",
       "      <td>69.99</td>\n",
       "      <td>2.0</td>\n",
       "      <td>2021</td>\n",
       "      <td>06</td>\n",
       "      <td>24</td>\n",
       "      <td>2021-06-24</td>\n",
       "      <td>2021-06</td>\n",
       "    </tr>\n",
       "    <tr>\n",
       "      <th>4</th>\n",
       "      <td>0_1509</td>\n",
       "      <td>s_325227</td>\n",
       "      <td>c_4232</td>\n",
       "      <td>m</td>\n",
       "      <td>1980</td>\n",
       "      <td>4.99</td>\n",
       "      <td>0.0</td>\n",
       "      <td>2023</td>\n",
       "      <td>01</td>\n",
       "      <td>11</td>\n",
       "      <td>2023-01-11</td>\n",
       "      <td>2023-01</td>\n",
       "    </tr>\n",
       "  </tbody>\n",
       "</table>\n",
       "</div>"
      ],
      "text/plain": [
       "  id_prod session_id client_id sex  birth  price  categ date_y date_m date_d  \\\n",
       "0  0_1518   s_211425     c_103   f   1986   4.18    0.0   2022     05     20   \n",
       "1   1_251   s_158752    c_8534   m   1988  15.99    1.0   2022     02     02   \n",
       "2  0_1277   s_225667    c_6714   f   1968   7.99    0.0   2022     06     18   \n",
       "3   2_209    s_52962    c_6941   m   2000  69.99    2.0   2021     06     24   \n",
       "4  0_1509   s_325227    c_4232   m   1980   4.99    0.0   2023     01     11   \n",
       "\n",
       "   date_y_m_d date_y_m  \n",
       "0  2022-05-20  2022-05  \n",
       "1  2022-02-02  2022-02  \n",
       "2  2022-06-18  2022-06  \n",
       "3  2021-06-24  2021-06  \n",
       "4  2023-01-11  2023-01  "
      ]
     },
     "execution_count": 33,
     "metadata": {},
     "output_type": "execute_result"
    }
   ],
   "source": [
    "data_complet.drop(['date'], axis=1,inplace=True)\n",
    "data_complet.head()"
   ]
  },
  {
   "cell_type": "code",
   "execution_count": 34,
   "metadata": {},
   "outputs": [
    {
     "data": {
      "text/html": [
       "<div>\n",
       "<style scoped>\n",
       "    .dataframe tbody tr th:only-of-type {\n",
       "        vertical-align: middle;\n",
       "    }\n",
       "\n",
       "    .dataframe tbody tr th {\n",
       "        vertical-align: top;\n",
       "    }\n",
       "\n",
       "    .dataframe thead th {\n",
       "        text-align: right;\n",
       "    }\n",
       "</style>\n",
       "<table border=\"1\" class=\"dataframe\">\n",
       "  <thead>\n",
       "    <tr style=\"text-align: right;\">\n",
       "      <th></th>\n",
       "      <th>date_y_m_d</th>\n",
       "      <th>categ_0</th>\n",
       "      <th>categ_1</th>\n",
       "      <th>categ_2</th>\n",
       "      <th>vol_categ_0</th>\n",
       "      <th>vol_categ_1</th>\n",
       "      <th>vol_categ_2</th>\n",
       "    </tr>\n",
       "  </thead>\n",
       "  <tbody>\n",
       "    <tr>\n",
       "      <th>0</th>\n",
       "      <td>2021-10-01</td>\n",
       "      <td>6950.50</td>\n",
       "      <td>7003.79</td>\n",
       "      <td>3104.05</td>\n",
       "      <td>663.0</td>\n",
       "      <td>344.0</td>\n",
       "      <td>38.0</td>\n",
       "    </tr>\n",
       "    <tr>\n",
       "      <th>1</th>\n",
       "      <td>2021-10-02</td>\n",
       "      <td>7141.01</td>\n",
       "      <td>NaN</td>\n",
       "      <td>2041.12</td>\n",
       "      <td>661.0</td>\n",
       "      <td>NaN</td>\n",
       "      <td>28.0</td>\n",
       "    </tr>\n",
       "    <tr>\n",
       "      <th>2</th>\n",
       "      <td>2021-10-03</td>\n",
       "      <td>6786.57</td>\n",
       "      <td>NaN</td>\n",
       "      <td>2206.48</td>\n",
       "      <td>648.0</td>\n",
       "      <td>NaN</td>\n",
       "      <td>31.0</td>\n",
       "    </tr>\n",
       "    <tr>\n",
       "      <th>3</th>\n",
       "      <td>2021-10-04</td>\n",
       "      <td>6533.60</td>\n",
       "      <td>NaN</td>\n",
       "      <td>2746.08</td>\n",
       "      <td>601.0</td>\n",
       "      <td>NaN</td>\n",
       "      <td>38.0</td>\n",
       "    </tr>\n",
       "    <tr>\n",
       "      <th>4</th>\n",
       "      <td>2021-10-05</td>\n",
       "      <td>6357.91</td>\n",
       "      <td>NaN</td>\n",
       "      <td>3032.55</td>\n",
       "      <td>594.0</td>\n",
       "      <td>NaN</td>\n",
       "      <td>38.0</td>\n",
       "    </tr>\n",
       "  </tbody>\n",
       "</table>\n",
       "</div>"
      ],
      "text/plain": [
       "   date_y_m_d  categ_0  categ_1  categ_2  vol_categ_0  vol_categ_1  \\\n",
       "0  2021-10-01  6950.50  7003.79  3104.05        663.0        344.0   \n",
       "1  2021-10-02  7141.01      NaN  2041.12        661.0          NaN   \n",
       "2  2021-10-03  6786.57      NaN  2206.48        648.0          NaN   \n",
       "3  2021-10-04  6533.60      NaN  2746.08        601.0          NaN   \n",
       "4  2021-10-05  6357.91      NaN  3032.55        594.0          NaN   \n",
       "\n",
       "   vol_categ_2  \n",
       "0         38.0  \n",
       "1         28.0  \n",
       "2         31.0  \n",
       "3         38.0  \n",
       "4         38.0  "
      ]
     },
     "execution_count": 34,
     "metadata": {},
     "output_type": "execute_result"
    }
   ],
   "source": [
    "#Création de dataframes pour les trois catégories de produits pour le mois d'octobre\n",
    "data_complet_categ = data_complet.query(\"date_y_m =='2021-10'\")[[\"categ\", \"price\", \"date_y_m_d\"]]\n",
    "data_complet_categ = pd.pivot_table(data_complet_categ, index=[\"date_y_m_d\"], columns=[\"categ\"], aggfunc=[\"sum\", \"count\"]).reset_index()\n",
    "data_complet_categ.columns = [\"date_y_m_d\", \"categ_0\", \"categ_1\", \"categ_2\", \"vol_categ_0\", \"vol_categ_1\", \"vol_categ_2\"]\n",
    "data_complet_categ.head()"
   ]
  },
  {
   "cell_type": "code",
   "execution_count": 37,
   "metadata": {},
   "outputs": [
    {
     "ename": "ValueError",
     "evalue": "shape mismatch: objects cannot be broadcast to a single shape",
     "output_type": "error",
     "traceback": [
      "\u001b[1;31m---------------------------------------------------------------------------\u001b[0m",
      "\u001b[1;31mValueError\u001b[0m                                Traceback (most recent call last)",
      "\u001b[1;32m<ipython-input-37-cdc8d837af8c>\u001b[0m in \u001b[0;36m<module>\u001b[1;34m\u001b[0m\n\u001b[0;32m      1\u001b[0m \u001b[1;31m# Graphique CA par mois:\u001b[0m\u001b[1;33m\u001b[0m\u001b[1;33m\u001b[0m\u001b[1;33m\u001b[0m\u001b[0m\n\u001b[0;32m      2\u001b[0m \u001b[0mdata_complet_categ\u001b[0m\u001b[1;33m[\u001b[0m\u001b[1;33m[\u001b[0m\u001b[1;34m\"categ_0\"\u001b[0m\u001b[1;33m,\u001b[0m \u001b[1;34m\"categ_1\"\u001b[0m\u001b[1;33m,\u001b[0m \u001b[1;34m\"categ_2\"\u001b[0m\u001b[1;33m]\u001b[0m\u001b[1;33m]\u001b[0m\u001b[1;33m.\u001b[0m\u001b[0mplot\u001b[0m\u001b[1;33m.\u001b[0m\u001b[0mbar\u001b[0m\u001b[1;33m(\u001b[0m\u001b[0mfigsize\u001b[0m\u001b[1;33m=\u001b[0m\u001b[1;33m(\u001b[0m\u001b[1;36m14\u001b[0m\u001b[1;33m,\u001b[0m\u001b[1;36m6\u001b[0m\u001b[1;33m)\u001b[0m\u001b[1;33m,\u001b[0m\u001b[0mcolor\u001b[0m\u001b[1;33m=\u001b[0m\u001b[0mcolors\u001b[0m\u001b[1;33m,\u001b[0m\u001b[0medgecolor\u001b[0m \u001b[1;33m=\u001b[0m \u001b[1;34m\"grey\"\u001b[0m\u001b[1;33m,\u001b[0m \u001b[0mlinewidth\u001b[0m \u001b[1;33m=\u001b[0m \u001b[1;36m1\u001b[0m\u001b[1;33m)\u001b[0m\u001b[1;33m\u001b[0m\u001b[1;33m\u001b[0m\u001b[0m\n\u001b[1;32m----> 3\u001b[1;33m \u001b[0mplt\u001b[0m\u001b[1;33m.\u001b[0m\u001b[0mbar\u001b[0m\u001b[1;33m(\u001b[0m\u001b[0mheight\u001b[0m\u001b[1;33m=\u001b[0m\u001b[0mdata_complet_categ\u001b[0m\u001b[1;33m[\u001b[0m\u001b[1;33m[\u001b[0m\u001b[1;34m\"categ_0\"\u001b[0m\u001b[1;33m,\u001b[0m \u001b[1;34m\"categ_1\"\u001b[0m\u001b[1;33m,\u001b[0m \u001b[1;34m\"categ_2\"\u001b[0m\u001b[1;33m]\u001b[0m\u001b[1;33m]\u001b[0m\u001b[1;33m,\u001b[0m \u001b[0mx\u001b[0m\u001b[1;33m=\u001b[0m\u001b[0mdata_complet_categ\u001b[0m\u001b[1;33m[\u001b[0m\u001b[1;34m'date_y_m_d'\u001b[0m\u001b[1;33m]\u001b[0m\u001b[1;33m,\u001b[0m\u001b[0mfigsize\u001b[0m\u001b[1;33m=\u001b[0m\u001b[1;33m(\u001b[0m\u001b[1;36m14\u001b[0m\u001b[1;33m,\u001b[0m\u001b[1;36m6\u001b[0m\u001b[1;33m)\u001b[0m\u001b[1;33m,\u001b[0m\u001b[0mcolor\u001b[0m\u001b[1;33m=\u001b[0m\u001b[0mcolors\u001b[0m\u001b[1;33m,\u001b[0m\u001b[0medgecolor\u001b[0m \u001b[1;33m=\u001b[0m \u001b[1;34m\"grey\"\u001b[0m\u001b[1;33m,\u001b[0m \u001b[0mlinewidth\u001b[0m \u001b[1;33m=\u001b[0m \u001b[1;36m1\u001b[0m\u001b[1;33m)\u001b[0m\u001b[1;33m\u001b[0m\u001b[1;33m\u001b[0m\u001b[0m\n\u001b[0m",
      "\u001b[1;32m~\\Anaconda3\\lib\\site-packages\\matplotlib\\pyplot.py\u001b[0m in \u001b[0;36mbar\u001b[1;34m(x, height, width, bottom, align, data, **kwargs)\u001b[0m\n\u001b[0;32m   2432\u001b[0m     return gca().bar(\n\u001b[0;32m   2433\u001b[0m         \u001b[0mx\u001b[0m\u001b[1;33m,\u001b[0m \u001b[0mheight\u001b[0m\u001b[1;33m,\u001b[0m \u001b[0mwidth\u001b[0m\u001b[1;33m=\u001b[0m\u001b[0mwidth\u001b[0m\u001b[1;33m,\u001b[0m \u001b[0mbottom\u001b[0m\u001b[1;33m=\u001b[0m\u001b[0mbottom\u001b[0m\u001b[1;33m,\u001b[0m \u001b[0malign\u001b[0m\u001b[1;33m=\u001b[0m\u001b[0malign\u001b[0m\u001b[1;33m,\u001b[0m\u001b[1;33m\u001b[0m\u001b[1;33m\u001b[0m\u001b[0m\n\u001b[1;32m-> 2434\u001b[1;33m         **({\"data\": data} if data is not None else {}), **kwargs)\n\u001b[0m\u001b[0;32m   2435\u001b[0m \u001b[1;33m\u001b[0m\u001b[0m\n\u001b[0;32m   2436\u001b[0m \u001b[1;33m\u001b[0m\u001b[0m\n",
      "\u001b[1;32m~\\Anaconda3\\lib\\site-packages\\matplotlib\\__init__.py\u001b[0m in \u001b[0;36minner\u001b[1;34m(ax, data, *args, **kwargs)\u001b[0m\n\u001b[0;32m   1587\u001b[0m     \u001b[1;32mdef\u001b[0m \u001b[0minner\u001b[0m\u001b[1;33m(\u001b[0m\u001b[0max\u001b[0m\u001b[1;33m,\u001b[0m \u001b[1;33m*\u001b[0m\u001b[0margs\u001b[0m\u001b[1;33m,\u001b[0m \u001b[0mdata\u001b[0m\u001b[1;33m=\u001b[0m\u001b[1;32mNone\u001b[0m\u001b[1;33m,\u001b[0m \u001b[1;33m**\u001b[0m\u001b[0mkwargs\u001b[0m\u001b[1;33m)\u001b[0m\u001b[1;33m:\u001b[0m\u001b[1;33m\u001b[0m\u001b[1;33m\u001b[0m\u001b[0m\n\u001b[0;32m   1588\u001b[0m         \u001b[1;32mif\u001b[0m \u001b[0mdata\u001b[0m \u001b[1;32mis\u001b[0m \u001b[1;32mNone\u001b[0m\u001b[1;33m:\u001b[0m\u001b[1;33m\u001b[0m\u001b[1;33m\u001b[0m\u001b[0m\n\u001b[1;32m-> 1589\u001b[1;33m             \u001b[1;32mreturn\u001b[0m \u001b[0mfunc\u001b[0m\u001b[1;33m(\u001b[0m\u001b[0max\u001b[0m\u001b[1;33m,\u001b[0m \u001b[1;33m*\u001b[0m\u001b[0mmap\u001b[0m\u001b[1;33m(\u001b[0m\u001b[0msanitize_sequence\u001b[0m\u001b[1;33m,\u001b[0m \u001b[0margs\u001b[0m\u001b[1;33m)\u001b[0m\u001b[1;33m,\u001b[0m \u001b[1;33m**\u001b[0m\u001b[0mkwargs\u001b[0m\u001b[1;33m)\u001b[0m\u001b[1;33m\u001b[0m\u001b[1;33m\u001b[0m\u001b[0m\n\u001b[0m\u001b[0;32m   1590\u001b[0m \u001b[1;33m\u001b[0m\u001b[0m\n\u001b[0;32m   1591\u001b[0m         \u001b[0mbound\u001b[0m \u001b[1;33m=\u001b[0m \u001b[0mnew_sig\u001b[0m\u001b[1;33m.\u001b[0m\u001b[0mbind\u001b[0m\u001b[1;33m(\u001b[0m\u001b[0max\u001b[0m\u001b[1;33m,\u001b[0m \u001b[1;33m*\u001b[0m\u001b[0margs\u001b[0m\u001b[1;33m,\u001b[0m \u001b[1;33m**\u001b[0m\u001b[0mkwargs\u001b[0m\u001b[1;33m)\u001b[0m\u001b[1;33m\u001b[0m\u001b[1;33m\u001b[0m\u001b[0m\n",
      "\u001b[1;32m~\\Anaconda3\\lib\\site-packages\\matplotlib\\axes\\_axes.py\u001b[0m in \u001b[0;36mbar\u001b[1;34m(self, x, height, width, bottom, align, **kwargs)\u001b[0m\n\u001b[0;32m   2373\u001b[0m         x, height, width, y, linewidth = np.broadcast_arrays(\n\u001b[0;32m   2374\u001b[0m             \u001b[1;31m# Make args iterable too.\u001b[0m\u001b[1;33m\u001b[0m\u001b[1;33m\u001b[0m\u001b[1;33m\u001b[0m\u001b[0m\n\u001b[1;32m-> 2375\u001b[1;33m             np.atleast_1d(x), height, width, y, linewidth)\n\u001b[0m\u001b[0;32m   2376\u001b[0m \u001b[1;33m\u001b[0m\u001b[0m\n\u001b[0;32m   2377\u001b[0m         \u001b[1;31m# Now that units have been converted, set the tick locations.\u001b[0m\u001b[1;33m\u001b[0m\u001b[1;33m\u001b[0m\u001b[1;33m\u001b[0m\u001b[0m\n",
      "\u001b[1;32m~\\Anaconda3\\lib\\site-packages\\numpy\\lib\\stride_tricks.py\u001b[0m in \u001b[0;36mbroadcast_arrays\u001b[1;34m(*args, **kwargs)\u001b[0m\n\u001b[0;32m    257\u001b[0m     \u001b[0margs\u001b[0m \u001b[1;33m=\u001b[0m \u001b[1;33m[\u001b[0m\u001b[0mnp\u001b[0m\u001b[1;33m.\u001b[0m\u001b[0marray\u001b[0m\u001b[1;33m(\u001b[0m\u001b[0m_m\u001b[0m\u001b[1;33m,\u001b[0m \u001b[0mcopy\u001b[0m\u001b[1;33m=\u001b[0m\u001b[1;32mFalse\u001b[0m\u001b[1;33m,\u001b[0m \u001b[0msubok\u001b[0m\u001b[1;33m=\u001b[0m\u001b[0msubok\u001b[0m\u001b[1;33m)\u001b[0m \u001b[1;32mfor\u001b[0m \u001b[0m_m\u001b[0m \u001b[1;32min\u001b[0m \u001b[0margs\u001b[0m\u001b[1;33m]\u001b[0m\u001b[1;33m\u001b[0m\u001b[1;33m\u001b[0m\u001b[0m\n\u001b[0;32m    258\u001b[0m \u001b[1;33m\u001b[0m\u001b[0m\n\u001b[1;32m--> 259\u001b[1;33m     \u001b[0mshape\u001b[0m \u001b[1;33m=\u001b[0m \u001b[0m_broadcast_shape\u001b[0m\u001b[1;33m(\u001b[0m\u001b[1;33m*\u001b[0m\u001b[0margs\u001b[0m\u001b[1;33m)\u001b[0m\u001b[1;33m\u001b[0m\u001b[1;33m\u001b[0m\u001b[0m\n\u001b[0m\u001b[0;32m    260\u001b[0m \u001b[1;33m\u001b[0m\u001b[0m\n\u001b[0;32m    261\u001b[0m     \u001b[1;32mif\u001b[0m \u001b[0mall\u001b[0m\u001b[1;33m(\u001b[0m\u001b[0marray\u001b[0m\u001b[1;33m.\u001b[0m\u001b[0mshape\u001b[0m \u001b[1;33m==\u001b[0m \u001b[0mshape\u001b[0m \u001b[1;32mfor\u001b[0m \u001b[0marray\u001b[0m \u001b[1;32min\u001b[0m \u001b[0margs\u001b[0m\u001b[1;33m)\u001b[0m\u001b[1;33m:\u001b[0m\u001b[1;33m\u001b[0m\u001b[1;33m\u001b[0m\u001b[0m\n",
      "\u001b[1;32m~\\Anaconda3\\lib\\site-packages\\numpy\\lib\\stride_tricks.py\u001b[0m in \u001b[0;36m_broadcast_shape\u001b[1;34m(*args)\u001b[0m\n\u001b[0;32m    191\u001b[0m     \u001b[1;31m# use the old-iterator because np.nditer does not handle size 0 arrays\u001b[0m\u001b[1;33m\u001b[0m\u001b[1;33m\u001b[0m\u001b[1;33m\u001b[0m\u001b[0m\n\u001b[0;32m    192\u001b[0m     \u001b[1;31m# consistently\u001b[0m\u001b[1;33m\u001b[0m\u001b[1;33m\u001b[0m\u001b[1;33m\u001b[0m\u001b[0m\n\u001b[1;32m--> 193\u001b[1;33m     \u001b[0mb\u001b[0m \u001b[1;33m=\u001b[0m \u001b[0mnp\u001b[0m\u001b[1;33m.\u001b[0m\u001b[0mbroadcast\u001b[0m\u001b[1;33m(\u001b[0m\u001b[1;33m*\u001b[0m\u001b[0margs\u001b[0m\u001b[1;33m[\u001b[0m\u001b[1;33m:\u001b[0m\u001b[1;36m32\u001b[0m\u001b[1;33m]\u001b[0m\u001b[1;33m)\u001b[0m\u001b[1;33m\u001b[0m\u001b[1;33m\u001b[0m\u001b[0m\n\u001b[0m\u001b[0;32m    194\u001b[0m     \u001b[1;31m# unfortunately, it cannot handle 32 or more arguments directly\u001b[0m\u001b[1;33m\u001b[0m\u001b[1;33m\u001b[0m\u001b[1;33m\u001b[0m\u001b[0m\n\u001b[0;32m    195\u001b[0m     \u001b[1;32mfor\u001b[0m \u001b[0mpos\u001b[0m \u001b[1;32min\u001b[0m \u001b[0mrange\u001b[0m\u001b[1;33m(\u001b[0m\u001b[1;36m32\u001b[0m\u001b[1;33m,\u001b[0m \u001b[0mlen\u001b[0m\u001b[1;33m(\u001b[0m\u001b[0margs\u001b[0m\u001b[1;33m)\u001b[0m\u001b[1;33m,\u001b[0m \u001b[1;36m31\u001b[0m\u001b[1;33m)\u001b[0m\u001b[1;33m:\u001b[0m\u001b[1;33m\u001b[0m\u001b[1;33m\u001b[0m\u001b[0m\n",
      "\u001b[1;31mValueError\u001b[0m: shape mismatch: objects cannot be broadcast to a single shape"
     ]
    },
    {
     "data": {
      "image/png": "[encoded data removed]",
      "text/plain": [
       "<Figure size 1008x432 with 1 Axes>"
      ]
     },
     "metadata": {
      "needs_background": "light"
     },
     "output_type": "display_data"
    }
   ],
   "source": [
    "# Graphique CA par mois:\n",
    "data_complet_categ[[\"categ_0\", \"categ_1\", \"categ_2\"]].plot.bar(figsize=(14,6),color=colors,edgecolor = \"grey\", linewidth = 1)\n",
    "plt.bar(height=data_complet_categ[[\"categ_0\", \"categ_1\", \"categ_2\"]], x=data_complet_categ['date_y_m_d'],figsize=(14,6),color=colors,edgecolor = \"grey\", linewidth = 1)"
   ]
  },
  {
   "cell_type": "code",
   "execution_count": 39,
   "metadata": {},
   "outputs": [
    {
     "ename": "ValueError",
     "evalue": "shape mismatch: objects cannot be broadcast to a single shape",
     "output_type": "error",
     "traceback": [
      "\u001b[1;31m---------------------------------------------------------------------------\u001b[0m",
      "\u001b[1;31mValueError\u001b[0m                                Traceback (most recent call last)",
      "\u001b[1;32m<ipython-input-39-f0e15f3589c2>\u001b[0m in \u001b[0;36m<module>\u001b[1;34m\u001b[0m\n\u001b[0;32m      1\u001b[0m \u001b[1;31m# Graphique volume des ventes:\u001b[0m\u001b[1;33m\u001b[0m\u001b[1;33m\u001b[0m\u001b[1;33m\u001b[0m\u001b[0m\n\u001b[0;32m      2\u001b[0m \u001b[0mdata_complet_categ\u001b[0m\u001b[1;33m[\u001b[0m\u001b[1;33m[\u001b[0m\u001b[1;34m\"vol_categ_0\"\u001b[0m\u001b[1;33m,\u001b[0m \u001b[1;34m\"vol_categ_1\"\u001b[0m\u001b[1;33m,\u001b[0m \u001b[1;34m\"vol_categ_2\"\u001b[0m\u001b[1;33m]\u001b[0m\u001b[1;33m]\u001b[0m\u001b[1;33m.\u001b[0m\u001b[0mplot\u001b[0m\u001b[1;33m.\u001b[0m\u001b[0mbar\u001b[0m\u001b[1;33m(\u001b[0m\u001b[0mfigsize\u001b[0m\u001b[1;33m=\u001b[0m\u001b[1;33m(\u001b[0m\u001b[1;36m14\u001b[0m\u001b[1;33m,\u001b[0m\u001b[1;36m6\u001b[0m\u001b[1;33m)\u001b[0m\u001b[1;33m,\u001b[0m\u001b[0mcolor\u001b[0m\u001b[1;33m=\u001b[0m\u001b[0mcolors\u001b[0m\u001b[1;33m,\u001b[0m\u001b[0medgecolor\u001b[0m \u001b[1;33m=\u001b[0m \u001b[1;34m\"grey\"\u001b[0m\u001b[1;33m,\u001b[0m \u001b[0mlinewidth\u001b[0m \u001b[1;33m=\u001b[0m \u001b[1;36m1\u001b[0m\u001b[1;33m)\u001b[0m\u001b[1;33m\u001b[0m\u001b[1;33m\u001b[0m\u001b[0m\n\u001b[1;32m----> 3\u001b[1;33m \u001b[0mplt\u001b[0m\u001b[1;33m.\u001b[0m\u001b[0mbar\u001b[0m\u001b[1;33m(\u001b[0m\u001b[0mheight\u001b[0m\u001b[1;33m=\u001b[0m\u001b[0mdata_complet_categ\u001b[0m\u001b[1;33m[\u001b[0m\u001b[1;33m[\u001b[0m\u001b[1;34m\"vol_categ_0\"\u001b[0m\u001b[1;33m,\u001b[0m \u001b[1;34m\"vol_categ_1\"\u001b[0m\u001b[1;33m,\u001b[0m \u001b[1;34m\"vol_categ_2\"\u001b[0m\u001b[1;33m]\u001b[0m\u001b[1;33m]\u001b[0m\u001b[1;33m,\u001b[0m \u001b[0mx\u001b[0m\u001b[1;33m=\u001b[0m\u001b[0mdata_complet_categ\u001b[0m\u001b[1;33m[\u001b[0m\u001b[1;34m'date_y_m_d'\u001b[0m\u001b[1;33m]\u001b[0m\u001b[1;33m,\u001b[0m\u001b[0mfigsize\u001b[0m\u001b[1;33m=\u001b[0m\u001b[1;33m(\u001b[0m\u001b[1;36m14\u001b[0m\u001b[1;33m,\u001b[0m\u001b[1;36m6\u001b[0m\u001b[1;33m)\u001b[0m\u001b[1;33m,\u001b[0m\u001b[0mcolor\u001b[0m\u001b[1;33m=\u001b[0m\u001b[0mcolors\u001b[0m\u001b[1;33m,\u001b[0m\u001b[0medgecolor\u001b[0m \u001b[1;33m=\u001b[0m \u001b[1;34m\"grey\"\u001b[0m\u001b[1;33m,\u001b[0m \u001b[0mlinewidth\u001b[0m \u001b[1;33m=\u001b[0m \u001b[1;36m1\u001b[0m\u001b[1;33m)\u001b[0m\u001b[1;33m\u001b[0m\u001b[1;33m\u001b[0m\u001b[0m\n\u001b[0m",
      "\u001b[1;32m~\\Anaconda3\\lib\\site-packages\\matplotlib\\pyplot.py\u001b[0m in \u001b[0;36mbar\u001b[1;34m(x, height, width, bottom, align, data, **kwargs)\u001b[0m\n\u001b[0;32m   2432\u001b[0m     return gca().bar(\n\u001b[0;32m   2433\u001b[0m         \u001b[0mx\u001b[0m\u001b[1;33m,\u001b[0m \u001b[0mheight\u001b[0m\u001b[1;33m,\u001b[0m \u001b[0mwidth\u001b[0m\u001b[1;33m=\u001b[0m\u001b[0mwidth\u001b[0m\u001b[1;33m,\u001b[0m \u001b[0mbottom\u001b[0m\u001b[1;33m=\u001b[0m\u001b[0mbottom\u001b[0m\u001b[1;33m,\u001b[0m \u001b[0malign\u001b[0m\u001b[1;33m=\u001b[0m\u001b[0malign\u001b[0m\u001b[1;33m,\u001b[0m\u001b[1;33m\u001b[0m\u001b[1;33m\u001b[0m\u001b[0m\n\u001b[1;32m-> 2434\u001b[1;33m         **({\"data\": data} if data is not None else {}), **kwargs)\n\u001b[0m\u001b[0;32m   2435\u001b[0m \u001b[1;33m\u001b[0m\u001b[0m\n\u001b[0;32m   2436\u001b[0m \u001b[1;33m\u001b[0m\u001b[0m\n",
      "\u001b[1;32m~\\Anaconda3\\lib\\site-packages\\matplotlib\\__init__.py\u001b[0m in \u001b[0;36minner\u001b[1;34m(ax, data, *args, **kwargs)\u001b[0m\n\u001b[0;32m   1587\u001b[0m     \u001b[1;32mdef\u001b[0m \u001b[0minner\u001b[0m\u001b[1;33m(\u001b[0m\u001b[0max\u001b[0m\u001b[1;33m,\u001b[0m \u001b[1;33m*\u001b[0m\u001b[0margs\u001b[0m\u001b[1;33m,\u001b[0m \u001b[0mdata\u001b[0m\u001b[1;33m=\u001b[0m\u001b[1;32mNone\u001b[0m\u001b[1;33m,\u001b[0m \u001b[1;33m**\u001b[0m\u001b[0mkwargs\u001b[0m\u001b[1;33m)\u001b[0m\u001b[1;33m:\u001b[0m\u001b[1;33m\u001b[0m\u001b[1;33m\u001b[0m\u001b[0m\n\u001b[0;32m   1588\u001b[0m         \u001b[1;32mif\u001b[0m \u001b[0mdata\u001b[0m \u001b[1;32mis\u001b[0m \u001b[1;32mNone\u001b[0m\u001b[1;33m:\u001b[0m\u001b[1;33m\u001b[0m\u001b[1;33m\u001b[0m\u001b[0m\n\u001b[1;32m-> 1589\u001b[1;33m             \u001b[1;32mreturn\u001b[0m \u001b[0mfunc\u001b[0m\u001b[1;33m(\u001b[0m\u001b[0max\u001b[0m\u001b[1;33m,\u001b[0m \u001b[1;33m*\u001b[0m\u001b[0mmap\u001b[0m\u001b[1;33m(\u001b[0m\u001b[0msanitize_sequence\u001b[0m\u001b[1;33m,\u001b[0m \u001b[0margs\u001b[0m\u001b[1;33m)\u001b[0m\u001b[1;33m,\u001b[0m \u001b[1;33m**\u001b[0m\u001b[0mkwargs\u001b[0m\u001b[1;33m)\u001b[0m\u001b[1;33m\u001b[0m\u001b[1;33m\u001b[0m\u001b[0m\n\u001b[0m\u001b[0;32m   1590\u001b[0m \u001b[1;33m\u001b[0m\u001b[0m\n\u001b[0;32m   1591\u001b[0m         \u001b[0mbound\u001b[0m \u001b[1;33m=\u001b[0m \u001b[0mnew_sig\u001b[0m\u001b[1;33m.\u001b[0m\u001b[0mbind\u001b[0m\u001b[1;33m(\u001b[0m\u001b[0max\u001b[0m\u001b[1;33m,\u001b[0m \u001b[1;33m*\u001b[0m\u001b[0margs\u001b[0m\u001b[1;33m,\u001b[0m \u001b[1;33m**\u001b[0m\u001b[0mkwargs\u001b[0m\u001b[1;33m)\u001b[0m\u001b[1;33m\u001b[0m\u001b[1;33m\u001b[0m\u001b[0m\n",
      "\u001b[1;32m~\\Anaconda3\\lib\\site-packages\\matplotlib\\axes\\_axes.py\u001b[0m in \u001b[0;36mbar\u001b[1;34m(self, x, height, width, bottom, align, **kwargs)\u001b[0m\n\u001b[0;32m   2373\u001b[0m         x, height, width, y, linewidth = np.broadcast_arrays(\n\u001b[0;32m   2374\u001b[0m             \u001b[1;31m# Make args iterable too.\u001b[0m\u001b[1;33m\u001b[0m\u001b[1;33m\u001b[0m\u001b[1;33m\u001b[0m\u001b[0m\n\u001b[1;32m-> 2375\u001b[1;33m             np.atleast_1d(x), height, width, y, linewidth)\n\u001b[0m\u001b[0;32m   2376\u001b[0m \u001b[1;33m\u001b[0m\u001b[0m\n\u001b[0;32m   2377\u001b[0m         \u001b[1;31m# Now that units have been converted, set the tick locations.\u001b[0m\u001b[1;33m\u001b[0m\u001b[1;33m\u001b[0m\u001b[1;33m\u001b[0m\u001b[0m\n",
      "\u001b[1;32m~\\Anaconda3\\lib\\site-packages\\numpy\\lib\\stride_tricks.py\u001b[0m in \u001b[0;36mbroadcast_arrays\u001b[1;34m(*args, **kwargs)\u001b[0m\n\u001b[0;32m    257\u001b[0m     \u001b[0margs\u001b[0m \u001b[1;33m=\u001b[0m \u001b[1;33m[\u001b[0m\u001b[0mnp\u001b[0m\u001b[1;33m.\u001b[0m\u001b[0marray\u001b[0m\u001b[1;33m(\u001b[0m\u001b[0m_m\u001b[0m\u001b[1;33m,\u001b[0m \u001b[0mcopy\u001b[0m\u001b[1;33m=\u001b[0m\u001b[1;32mFalse\u001b[0m\u001b[1;33m,\u001b[0m \u001b[0msubok\u001b[0m\u001b[1;33m=\u001b[0m\u001b[0msubok\u001b[0m\u001b[1;33m)\u001b[0m \u001b[1;32mfor\u001b[0m \u001b[0m_m\u001b[0m \u001b[1;32min\u001b[0m \u001b[0margs\u001b[0m\u001b[1;33m]\u001b[0m\u001b[1;33m\u001b[0m\u001b[1;33m\u001b[0m\u001b[0m\n\u001b[0;32m    258\u001b[0m \u001b[1;33m\u001b[0m\u001b[0m\n\u001b[1;32m--> 259\u001b[1;33m     \u001b[0mshape\u001b[0m \u001b[1;33m=\u001b[0m \u001b[0m_broadcast_shape\u001b[0m\u001b[1;33m(\u001b[0m\u001b[1;33m*\u001b[0m\u001b[0margs\u001b[0m\u001b[1;33m)\u001b[0m\u001b[1;33m\u001b[0m\u001b[1;33m\u001b[0m\u001b[0m\n\u001b[0m\u001b[0;32m    260\u001b[0m \u001b[1;33m\u001b[0m\u001b[0m\n\u001b[0;32m    261\u001b[0m     \u001b[1;32mif\u001b[0m \u001b[0mall\u001b[0m\u001b[1;33m(\u001b[0m\u001b[0marray\u001b[0m\u001b[1;33m.\u001b[0m\u001b[0mshape\u001b[0m \u001b[1;33m==\u001b[0m \u001b[0mshape\u001b[0m \u001b[1;32mfor\u001b[0m \u001b[0marray\u001b[0m \u001b[1;32min\u001b[0m \u001b[0margs\u001b[0m\u001b[1;33m)\u001b[0m\u001b[1;33m:\u001b[0m\u001b[1;33m\u001b[0m\u001b[1;33m\u001b[0m\u001b[0m\n",
      "\u001b[1;32m~\\Anaconda3\\lib\\site-packages\\numpy\\lib\\stride_tricks.py\u001b[0m in \u001b[0;36m_broadcast_shape\u001b[1;34m(*args)\u001b[0m\n\u001b[0;32m    191\u001b[0m     \u001b[1;31m# use the old-iterator because np.nditer does not handle size 0 arrays\u001b[0m\u001b[1;33m\u001b[0m\u001b[1;33m\u001b[0m\u001b[1;33m\u001b[0m\u001b[0m\n\u001b[0;32m    192\u001b[0m     \u001b[1;31m# consistently\u001b[0m\u001b[1;33m\u001b[0m\u001b[1;33m\u001b[0m\u001b[1;33m\u001b[0m\u001b[0m\n\u001b[1;32m--> 193\u001b[1;33m     \u001b[0mb\u001b[0m \u001b[1;33m=\u001b[0m \u001b[0mnp\u001b[0m\u001b[1;33m.\u001b[0m\u001b[0mbroadcast\u001b[0m\u001b[1;33m(\u001b[0m\u001b[1;33m*\u001b[0m\u001b[0margs\u001b[0m\u001b[1;33m[\u001b[0m\u001b[1;33m:\u001b[0m\u001b[1;36m32\u001b[0m\u001b[1;33m]\u001b[0m\u001b[1;33m)\u001b[0m\u001b[1;33m\u001b[0m\u001b[1;33m\u001b[0m\u001b[0m\n\u001b[0m\u001b[0;32m    194\u001b[0m     \u001b[1;31m# unfortunately, it cannot handle 32 or more arguments directly\u001b[0m\u001b[1;33m\u001b[0m\u001b[1;33m\u001b[0m\u001b[1;33m\u001b[0m\u001b[0m\n\u001b[0;32m    195\u001b[0m     \u001b[1;32mfor\u001b[0m \u001b[0mpos\u001b[0m \u001b[1;32min\u001b[0m \u001b[0mrange\u001b[0m\u001b[1;33m(\u001b[0m\u001b[1;36m32\u001b[0m\u001b[1;33m,\u001b[0m \u001b[0mlen\u001b[0m\u001b[1;33m(\u001b[0m\u001b[0margs\u001b[0m\u001b[1;33m)\u001b[0m\u001b[1;33m,\u001b[0m \u001b[1;36m31\u001b[0m\u001b[1;33m)\u001b[0m\u001b[1;33m:\u001b[0m\u001b[1;33m\u001b[0m\u001b[1;33m\u001b[0m\u001b[0m\n",
      "\u001b[1;31mValueError\u001b[0m: shape mismatch: objects cannot be broadcast to a single shape"
     ]
    },
    {
     "data": {
      "image/png": "[encoded data removed]",
      "text/plain": [
       "<Figure size 1008x432 with 1 Axes>"
      ]
     },
     "metadata": {
      "needs_background": "light"
     },
     "output_type": "display_data"
    }
   ],
   "source": [
    "# Graphique volume des ventes:\n",
    "data_complet_categ[[\"vol_categ_0\", \"vol_categ_1\", \"vol_categ_2\"]].plot.bar(figsize=(14,6),color=colors,edgecolor = \"grey\", linewidth = 1)\n",
    "plt.bar(height=data_complet_categ[[\"vol_categ_0\", \"vol_categ_1\", \"vol_categ_2\"]], x=data_complet_categ['date_y_m_d'],figsize=(14,6),color=colors,edgecolor = \"grey\", linewidth = 1)\n"
   ]
  },
  {
   "cell_type": "markdown",
   "metadata": {},
   "source": [
    " On constate dans le graphique, aucun achat n'a été enregistré entre le 1 et le 26 octobre 2021 pour les produits de catégorie 1, ce qui explique une baisse de CA à cette période pour les produits de catégorie 1"
   ]
  },
  {
   "cell_type": "markdown",
   "metadata": {},
   "source": [
    "### 5.3 Decomposition en moyenne mobile:"
   ]
  },
  {
   "cell_type": "code",
   "execution_count": 40,
   "metadata": {},
   "outputs": [
    {
     "name": "stdout",
     "output_type": "stream",
     "text": [
      "               price\n",
      "date_y_m            \n",
      "2021-03          NaN\n",
      "2021-04   479274.955\n",
      "2021-05   484526.385\n",
      "2021-06   488516.015\n",
      "2021-07   483461.980\n",
      "2021-08   482560.095\n",
      "2021-09   494762.735\n",
      "2021-10   414019.710\n",
      "2021-11   418483.235\n",
      "2021-12   521042.505\n",
      "2022-01   525628.135\n",
      "2022-02   530455.245\n",
      "2022-03   525514.015\n",
      "2022-04   504227.735\n",
      "2022-05   505065.770\n",
      "2022-06   506574.360\n",
      "2022-07   503399.620\n",
      "2022-08   508625.195\n",
      "2022-09   500290.900\n",
      "2022-10   501016.150\n",
      "2022-11   502291.355\n",
      "2022-12   503442.220\n",
      "2023-01   513880.025\n",
      "2023-02   487110.155\n"
     ]
    },
    {
     "data": {
      "text/plain": [
       "Text(0.5, 1.0, \"Moyenne mobile du chiffre d'affaire\")"
      ]
     },
     "execution_count": 40,
     "metadata": {},
     "output_type": "execute_result"
    },
    {
     "data": {
      "image/png": "[encoded data removed]",
      "text/plain": [
       "<Figure size 432x288 with 1 Axes>"
      ]
     },
     "metadata": {
      "needs_background": "light"
     },
     "output_type": "display_data"
    }
   ],
   "source": [
    "# Decomposition en moyenne mobile pour chaque semaine\n",
    "moving_average = ca_mensuel.set_index('date_y_m').rolling(window=2).mean()\n",
    "#data_complet.loc[\"date_y_m_d\",\"price\"].rolling(window=30).mean().plot()\n",
    "print(moving_average)\n",
    "\n",
    "# Graphique:\n",
    "moving_average.plot()\n",
    "plt.xlabel(\"Période\")\n",
    "plt.ylabel(\"Chiffre d'affaires (€)\")\n",
    "plt.title(\"Moyenne mobile du chiffre d'affaire\")"
   ]
  },
  {
   "cell_type": "markdown",
   "metadata": {},
   "source": [
    "on observer une baisse du CA au mois d'octobre"
   ]
  },
  {
   "cell_type": "markdown",
   "metadata": {},
   "source": [
    "### 6. Zoom sur les références"
   ]
  },
  {
   "cell_type": "code",
   "execution_count": 41,
   "metadata": {},
   "outputs": [
    {
     "name": "stdout",
     "output_type": "stream",
     "text": [
      "Références les plus vendues\n",
      "id_prod\n",
      "2_159    94893.50\n",
      "2_135    69334.95\n",
      "2_112    65407.76\n",
      "2_102    60736.78\n",
      "2_209    56971.86\n",
      "1_395    54356.25\n",
      "1_369    54025.48\n",
      "2_110    53846.25\n",
      "2_39     53060.85\n",
      "2_166    52449.12\n",
      "Name: price, dtype: float64\n",
      "Références les moins vendues\n",
      "id_prod\n",
      "0_1539    0.99\n",
      "0_1284    1.38\n",
      "0_1653    1.98\n",
      "0_1601    1.99\n",
      "0_541     1.99\n",
      "0_807     1.99\n",
      "0_1728    2.27\n",
      "0_1498    2.48\n",
      "0_898     2.54\n",
      "0_1840    2.56\n",
      "Name: price, dtype: float64\n"
     ]
    }
   ],
   "source": [
    "#Zoom sur les références tops et flops\n",
    "nbre_ventes_ref = data_complet.groupby([\"id_prod\"])[\"price\"].sum()\n",
    "\n",
    "print(\"Références les plus vendues\")\n",
    "print(nbre_ventes_ref.nlargest(10))\n",
    "print(\"Références les moins vendues\")\n",
    "print(nbre_ventes_ref.nsmallest(10))"
   ]
  },
  {
   "cell_type": "markdown",
   "metadata": {},
   "source": [
    "Parmis les 10  tops produits , 8 produits appartiennent  à la catégorie 2  et 2 produits à la catégorie 1 , tandis que les dix pires ventes appartiennent  à la catégorie 0."
   ]
  },
  {
   "cell_type": "markdown",
   "metadata": {},
   "source": [
    "### 7.Repartition du CA par produits"
   ]
  },
  {
   "cell_type": "code",
   "execution_count": 44,
   "metadata": {},
   "outputs": [
    {
     "name": "stdout",
     "output_type": "stream",
     "text": [
      "indice de Gini: 0.743\n"
     ]
    },
    {
     "data": {
      "image/png": "[encoded data removed]",
      "text/plain": [
       "<Figure size 432x288 with 1 Axes>"
      ]
     },
     "metadata": {
      "needs_background": "light"
     },
     "output_type": "display_data"
    }
   ],
   "source": [
    "# Courbe de Lorentz\n",
    "lorenz_ca_produit = np.cumsum(np.sort(nbre_ventes_ref)) / nbre_ventes_ref.sum()\n",
    "lorenz_ca_produit = np.append([0], lorenz_ca_produit)\n",
    "plt.plot(np.linspace(0,1,len(lorenz_ca_produit)), lorenz_ca_produit, drawstyle='steps-post'),\n",
    "plt.plot(np.linspace(0,1,len(lorenz_ca_produit)), np.linspace(0,1,len(lorenz_ca_produit)),color =\"grey\", dashes=[2,4])\n",
    "plt.vlines(x=0.9286589099816289, ymin=0, ymax=.5, color='blue', linestyle='--', linewidth=1, label='Medial')\n",
    "plt.hlines(xmin=0.9286589099816289, xmax=0, y=.5, color='blue', linestyle='--', linewidth=1)\n",
    "\n",
    "plt.ylabel(\"Parts cumulées du chiffre d'affaires\")\n",
    "plt.xlabel(\"Parts cumulées des produits\")\n",
    "plt.title(\"Répartition du chiffre d'affaires entre les produits\")\n",
    "aire_ss_courbe_ca_produit = lorenz_ca_produit[:-1].sum() / len(lorenz_ca_produit)\n",
    "S_ca_produit = 0.5 - aire_ss_courbe_ca_produit\n",
    "gini_ca_produit = 2* S_ca_produit\n",
    "print(\"indice de Gini:\",round(gini_ca_produit,3))"
   ]
  },
  {
   "cell_type": "code",
   "execution_count": 43,
   "metadata": {},
   "outputs": [
    {
     "data": {
      "text/plain": [
       "0.9286589099816289"
      ]
     },
     "execution_count": 43,
     "metadata": {},
     "output_type": "execute_result"
    }
   ],
   "source": [
    "# calcul de la médiale\n",
    "\n",
    "medial = lorenz_ca_produit[(lorenz_ca_produit < 0.5)].size / lorenz_ca_produit.size\n",
    "medial"
   ]
  },
  {
   "cell_type": "markdown",
   "metadata": {},
   "source": [
    "L'indice de Gini qui vaut 0,743 s'éloigne fortement de 0, le poids des produits dans le chiffre d'affaires global est donc très inégal."
   ]
  },
  {
   "cell_type": "markdown",
   "metadata": {},
   "source": [
    "###  7.Repartition des references parmis les categories:"
   ]
  },
  {
   "cell_type": "code",
   "execution_count": 40,
   "metadata": {},
   "outputs": [
    {
     "name": "stdout",
     "output_type": "stream",
     "text": [
      "Répartitions des références par catégories:\n",
      " categ\n",
      "0    2309\n",
      "1     739\n",
      "2     239\n",
      "Name: id_prod, dtype: int64\n",
      "Nombre de ventes par catégories:\n",
      " categ\n",
      "0.0    415459\n",
      "1.0    227169\n",
      "2.0     36483\n",
      "Name: session_id, dtype: int64\n",
      "Prix moyen d'un livre selon sa catégorie:\n",
      " categ\n",
      "0     11.732795\n",
      "1     25.531421\n",
      "2    108.354686\n",
      "Name: price, dtype: float64\n",
      "Chiffre d'affaires par catégorie\n",
      " categ\n",
      "0.0    4.419731e+06\n",
      "1.0    4.653723e+06\n",
      "2.0    2.780275e+06\n",
      "Name: price, dtype: float64\n"
     ]
    },
    {
     "data": {
      "image/png": "[encoded data removed]",
      "text/plain": [
       "<Figure size 432x288 with 1 Axes>"
      ]
     },
     "metadata": {},
     "output_type": "display_data"
    }
   ],
   "source": [
    "# Repartition des references parmis les categories:\n",
    "repartition_categorie = products.groupby([\"categ\"])[\"id_prod\"].count()\n",
    "print(\"Répartitions des références par catégories:\\n\",repartition_categorie)\n",
    "\n",
    "# Volume de ventes par categories:\n",
    "vol_categorie = data_complet.groupby([\"categ\"])[\"session_id\"].count()\n",
    "\n",
    "print(\"Nombre de ventes par catégories:\\n\", vol_categorie)\n",
    "\n",
    "# Prix moyen par categories:\n",
    "prix_categorie = products.groupby([\"categ\"])[\"price\"].mean()\n",
    "print(\"Prix moyen d'un livre selon sa catégorie:\\n\",prix_categorie)\n",
    "\n",
    "# CA par categories:\n",
    "ca_categorie = data_complet.groupby(data_complet[\"categ\"])[\"price\"].sum()\n",
    "print(\"Chiffre d'affaires par catégorie\\n\",ca_categorie)\n",
    "\n",
    "# Graphique:\n",
    "fig1, ax1 = plt.subplots()\n",
    "ax1.pie(ca_categorie,\n",
    "        labels=[\"0\",\"1\",\"2\"],\n",
    "        autopct=\"%1.1f%%\",\n",
    "        colors=colors,\n",
    "        shadow=True)\n",
    "ax1.axis(\"equal\")\n",
    "plt.title(\"Répartition du chiffre d'affaires par catégories\")\n",
    "plt.show()"
   ]
  },
  {
   "cell_type": "markdown",
   "metadata": {},
   "source": [
    "On note  que nos meilleures ventes se font sur la catégorie 1."
   ]
  },
  {
   "cell_type": "markdown",
   "metadata": {},
   "source": [
    "### 8.informations sur les profils de nos clients"
   ]
  },
  {
   "cell_type": "code",
   "execution_count": 45,
   "metadata": {},
   "outputs": [
    {
     "name": "stdout",
     "output_type": "stream",
     "text": [
      "Clients ayant le plus dépensé\n",
      "client_id\n",
      "c_1609    324033.35\n",
      "c_4958    289760.34\n",
      "c_6714    153598.92\n",
      "c_3454    113637.93\n",
      "c_3263      5276.87\n",
      "c_1570      5271.62\n",
      "c_2899      5214.05\n",
      "c_2140      5208.82\n",
      "c_7319      5155.77\n",
      "c_7959      5085.45\n",
      "Name: price, dtype: float64\n"
     ]
    }
   ],
   "source": [
    "# meilleurs clients\n",
    "best_client = data_complet.groupby([\"client_id\"])[\"price\"].sum()\n",
    "\n",
    "print(\"Clients ayant le plus dépensé\")\n",
    "print(best_client.nlargest(10))"
   ]
  },
  {
   "cell_type": "markdown",
   "metadata": {},
   "source": [
    " c_1609 est le meilleur client"
   ]
  },
  {
   "cell_type": "code",
   "execution_count": 49,
   "metadata": {},
   "outputs": [
    {
     "name": "stdout",
     "output_type": "stream",
     "text": [
      "indice de Gini: 0.447\n"
     ]
    },
    {
     "data": {
      "image/png": "[encoded data removed]",
      "text/plain": [
       "<Figure size 432x288 with 1 Axes>"
      ]
     },
     "metadata": {
      "needs_background": "light"
     },
     "output_type": "display_data"
    }
   ],
   "source": [
    "# Courbe de Lorentz: (repartition du CA par clients)\n",
    "lorenz_CA_client = np.cumsum(np.sort(best_client)) / best_client.sum()\n",
    "lorenz_CA_client = np.append([0], lorenz_CA_client)\n",
    "plt.plot(np.linspace(0,1,len(lorenz_CA_client)), lorenz_CA_client, drawstyle=\"steps-post\")\n",
    "plt.plot(np.linspace(0,1,len(lorenz_CA_client)), np.linspace(0,1,len(lorenz_CA_client)), color =\"grey\", dashes=[2,4])\n",
    "plt.vlines(x=0.7890942913614696, ymin=0, ymax=.5, color='blue', linestyle='--', linewidth=1, label='Medial')\n",
    "plt.hlines(xmin=0.7890942913614696, xmax=0, y=.5, color='blue', linestyle='--', linewidth=1)\n",
    "plt.ylabel(\"Parts cumulées du chiffre d'affaires\")\n",
    "plt.xlabel(\"Parts cumulées des achats\")\n",
    "plt.title(\"Répartition du chiffre d'affaires entre les clients\")\n",
    "aire_ss_courbe_CA_client = lorenz_CA_client[:-1].sum() / len(lorenz_CA_client)\n",
    "S_ca_client = 0.5 - aire_ss_courbe_CA_client\n",
    "gini_CA_client = 2*S_ca_client\n",
    "print(\"indice de Gini:\",round(gini_CA_client,3))"
   ]
  },
  {
   "cell_type": "code",
   "execution_count": 47,
   "metadata": {},
   "outputs": [
    {
     "data": {
      "text/plain": [
       "0.7890942913614696"
      ]
     },
     "execution_count": 47,
     "metadata": {},
     "output_type": "execute_result"
    }
   ],
   "source": [
    "# calcul de la médiale\n",
    "\n",
    "medial_1 = lorenz_CA_client[(lorenz_CA_client < 0.5)].size / lorenz_CA_client.size\n",
    "medial_1"
   ]
  },
  {
   "cell_type": "markdown",
   "metadata": {},
   "source": [
    "On constate que 79% des achats représentent 50% du montant total des prix de vente."
   ]
  },
  {
   "cell_type": "markdown",
   "metadata": {},
   "source": [
    "### 9.Répartition des genres au sein de notre clientèle"
   ]
  },
  {
   "cell_type": "code",
   "execution_count": 50,
   "metadata": {},
   "outputs": [
    {
     "name": "stdout",
     "output_type": "stream",
     "text": [
      "sex\n",
      "f    338285\n",
      "m    340826\n",
      "Name: client_id, dtype: int64\n"
     ]
    },
    {
     "data": {
      "image/png": "[encoded data removed]",
      "text/plain": [
       "<Figure size 432x288 with 1 Axes>"
      ]
     },
     "metadata": {},
     "output_type": "display_data"
    }
   ],
   "source": [
    "# Repartition des genres parmis nos clients:\n",
    "repartition_genre = data_complet.groupby([\"sex\"])[\"client_id\"].count()\n",
    "print(repartition_genre)\n",
    "\n",
    "# Graphique:\n",
    "fig2, ax2 = plt.subplots()\n",
    "ax2.pie(repartition_genre,\n",
    "        labels=[\"Femmes\",\"Homme\"],\n",
    "        autopct=\"%1.1f%%\",\n",
    "        colors=[\"#d2a0f2\",\"#0abdc0\"],\n",
    "        shadow=True)\n",
    "ax2.axis(\"equal\")\n",
    "plt.title(\"Répartition des genres au sein de notre clientèle\")\n",
    "plt.show()"
   ]
  },
  {
   "cell_type": "markdown",
   "metadata": {},
   "source": [
    "### 10.Participation au chiffre d'affaires par genres"
   ]
  },
  {
   "cell_type": "code",
   "execution_count": 51,
   "metadata": {},
   "outputs": [
    {
     "name": "stdout",
     "output_type": "stream",
     "text": [
      "montant total des achats par genre:\n",
      " sex\n",
      "f    5.859683e+06\n",
      "m    5.994046e+06\n",
      "Name: price, dtype: float64\n",
      "nombre total d'achats par genre:\n",
      " sex\n",
      "f    338285\n",
      "m    340826\n",
      "Name: price, dtype: int64\n",
      "montant moyen des achats par genre:\n",
      " sex\n",
      "f    17.321735\n",
      "m    17.586820\n",
      "Name: price, dtype: float64\n"
     ]
    },
    {
     "data": {
      "image/png": "[encoded data removed]",
      "text/plain": [
       "<Figure size 432x288 with 1 Axes>"
      ]
     },
     "metadata": {},
     "output_type": "display_data"
    }
   ],
   "source": [
    "# Depenses par genres:\n",
    "repartition_achats_genre = data_complet.groupby([\"sex\"])[\"price\"].sum()\n",
    "print(\"montant total des achats par genre:\\n\", repartition_achats_genre)\n",
    "\n",
    "nbr_achats_genre = data_complet.groupby([\"sex\"])[\"price\"].count()\n",
    "print(\"nombre total d'achats par genre:\\n\", nbr_achats_genre)\n",
    "\n",
    "moy_achats_genre = data_complet.groupby([\"sex\"])[\"price\"].mean()\n",
    "print(\"montant moyen des achats par genre:\\n\", moy_achats_genre)\n",
    "\n",
    "\n",
    "# Graphique:\n",
    "fig3, ax3 = plt.subplots()\n",
    "ax3.pie(repartition_achats_genre,\n",
    "        labels=[\"Femmes\",\"Homme\"],\n",
    "        autopct=\"%1.1f%%\",\n",
    "        colors=[\"#d2a0f2\",\"#0abdc0\"],\n",
    "        shadow=True)\n",
    "ax3.axis(\"equal\")\n",
    "plt.title(\"Participation au chiffre d'affaires par genres\")\n",
    "plt.show()"
   ]
  },
  {
   "cell_type": "markdown",
   "metadata": {},
   "source": [
    "## 11.Réponses à Julie"
   ]
  },
  {
   "cell_type": "markdown",
   "metadata": {},
   "source": [
    "### 11.1 Analyse de la corrélation entre le sexe des clients et les catégories de produits achetés"
   ]
  },
  {
   "cell_type": "code",
   "execution_count": 54,
   "metadata": {},
   "outputs": [],
   "source": [
    "# Conversion la colonne birth en age\n",
    "data_complet['birth'] = 2023 - data_complet['birth']\n",
    "\n",
    "data_complet.rename(columns={'birth': 'age'}, inplace = True)\n"
   ]
  },
  {
   "cell_type": "code",
   "execution_count": 55,
   "metadata": {},
   "outputs": [
    {
     "data": {
      "text/html": [
       "<div>\n",
       "<style scoped>\n",
       "    .dataframe tbody tr th:only-of-type {\n",
       "        vertical-align: middle;\n",
       "    }\n",
       "\n",
       "    .dataframe tbody tr th {\n",
       "        vertical-align: top;\n",
       "    }\n",
       "\n",
       "    .dataframe thead th {\n",
       "        text-align: right;\n",
       "    }\n",
       "</style>\n",
       "<table border=\"1\" class=\"dataframe\">\n",
       "  <thead>\n",
       "    <tr style=\"text-align: right;\">\n",
       "      <th></th>\n",
       "      <th>age</th>\n",
       "      <th>price</th>\n",
       "      <th>categ</th>\n",
       "    </tr>\n",
       "  </thead>\n",
       "  <tbody>\n",
       "    <tr>\n",
       "      <th>age</th>\n",
       "      <td>1.000000</td>\n",
       "      <td>-0.209465</td>\n",
       "      <td>-0.099241</td>\n",
       "    </tr>\n",
       "    <tr>\n",
       "      <th>price</th>\n",
       "      <td>-0.209465</td>\n",
       "      <td>1.000000</td>\n",
       "      <td>0.671752</td>\n",
       "    </tr>\n",
       "    <tr>\n",
       "      <th>categ</th>\n",
       "      <td>-0.099241</td>\n",
       "      <td>0.671752</td>\n",
       "      <td>1.000000</td>\n",
       "    </tr>\n",
       "  </tbody>\n",
       "</table>\n",
       "</div>"
      ],
      "text/plain": [
       "            age     price     categ\n",
       "age    1.000000 -0.209465 -0.099241\n",
       "price -0.209465  1.000000  0.671752\n",
       "categ -0.099241  0.671752  1.000000"
      ]
     },
     "execution_count": 55,
     "metadata": {},
     "output_type": "execute_result"
    }
   ],
   "source": [
    "data_complet.corr().head()"
   ]
  },
  {
   "cell_type": "code",
   "execution_count": 56,
   "metadata": {},
   "outputs": [
    {
     "data": {
      "text/html": [
       "<div>\n",
       "<style scoped>\n",
       "    .dataframe tbody tr th:only-of-type {\n",
       "        vertical-align: middle;\n",
       "    }\n",
       "\n",
       "    .dataframe tbody tr th {\n",
       "        vertical-align: top;\n",
       "    }\n",
       "\n",
       "    .dataframe thead th {\n",
       "        text-align: right;\n",
       "    }\n",
       "</style>\n",
       "<table border=\"1\" class=\"dataframe\">\n",
       "  <thead>\n",
       "    <tr style=\"text-align: right;\">\n",
       "      <th>categ</th>\n",
       "      <th>0.0</th>\n",
       "      <th>1.0</th>\n",
       "      <th>2.0</th>\n",
       "      <th>Total</th>\n",
       "    </tr>\n",
       "    <tr>\n",
       "      <th>sex</th>\n",
       "      <th></th>\n",
       "      <th></th>\n",
       "      <th></th>\n",
       "      <th></th>\n",
       "    </tr>\n",
       "  </thead>\n",
       "  <tbody>\n",
       "    <tr>\n",
       "      <th>f</th>\n",
       "      <td>206103</td>\n",
       "      <td>114899</td>\n",
       "      <td>17283</td>\n",
       "      <td>338285</td>\n",
       "    </tr>\n",
       "    <tr>\n",
       "      <th>m</th>\n",
       "      <td>209356</td>\n",
       "      <td>112270</td>\n",
       "      <td>19200</td>\n",
       "      <td>340826</td>\n",
       "    </tr>\n",
       "    <tr>\n",
       "      <th>Total</th>\n",
       "      <td>415459</td>\n",
       "      <td>227169</td>\n",
       "      <td>36483</td>\n",
       "      <td>679111</td>\n",
       "    </tr>\n",
       "  </tbody>\n",
       "</table>\n",
       "</div>"
      ],
      "text/plain": [
       "categ     0.0     1.0    2.0   Total\n",
       "sex                                 \n",
       "f      206103  114899  17283  338285\n",
       "m      209356  112270  19200  340826\n",
       "Total  415459  227169  36483  679111"
      ]
     },
     "execution_count": 56,
     "metadata": {},
     "output_type": "execute_result"
    }
   ],
   "source": [
    "#Création du tableau de contingence \"Matrice des valeurs observées\"\n",
    "#Variables 'sex' et 'categ' du dataframe \n",
    "X = 'sex'\n",
    "Y = 'categ'\n",
    "#Calcul du tableau de contigence par la méthode\n",
    "cont = data_complet[[X,Y]].pivot_table(index=X,columns=Y,aggfunc=len,margins=True,margins_name=\"Total\")\n",
    "cont"
   ]
  },
  {
   "cell_type": "code",
   "execution_count": 57,
   "metadata": {},
   "outputs": [
    {
     "data": {
      "image/png": "[encoded data removed]",
      "text/plain": [
       "<Figure size 432x288 with 2 Axes>"
      ]
     },
     "metadata": {
      "needs_background": "light"
     },
     "output_type": "display_data"
    }
   ],
   "source": [
    "#afficher cette heatmap \n",
    "#Création de la \"Matrice des valeurs attendues\"\n",
    "#L’occurrence attendue est simplement la fréquence que l’on devrait trouver dans une cellule \n",
    "#si l’hypothèse nulle était vraie.\n",
    "tx = cont.loc[:,[\"Total\"]]\n",
    "ty = cont.loc[[\"Total\"],:]\n",
    "\n",
    "#Valeurs totales observées\n",
    "n = len(data_complet)\n",
    "\n",
    "#Produit matriciel.\n",
    "indep = tx.dot(ty) / n\n",
    "\n",
    "c = cont.fillna(0) # On remplace les valeurs nulles par 0\n",
    "\n",
    "#Matrice \"écart au carré normalisé de la valeur attendue VS valeur observée\"\n",
    "measure = (c-indep)**2/indep\n",
    "\n",
    "#Calcul du Chi2\n",
    "#Tester l’hypothèse nulle consiste à comparer les occurrences observées (celles déjà dans le tableau) \n",
    "#avec les occurrences attendues.\n",
    "xi_n = measure.sum().sum()\n",
    "\n",
    "#HeatMap \n",
    "table = measure/xi_n\n",
    "#sns.heatmap(table.iloc[:-1,:-1],annot=c.iloc[:-1,:-1])\n",
    "sns.heatmap(table, annot=True, cmap=\"plasma\", linewidths=0.1)\n",
    "\n",
    "plt.title('HeatMap Sexe clients vs Catégorie produits')\n",
    "plt.xlabel('Categ.')\n",
    "plt.ylabel('Sexe')\n",
    "plt.show()"
   ]
  },
  {
   "cell_type": "code",
   "execution_count": 58,
   "metadata": {},
   "outputs": [
    {
     "data": {
      "text/plain": [
       "(147.11906816131497, 6, 3.144522803251581e-29)"
      ]
     },
     "execution_count": 58,
     "metadata": {},
     "output_type": "execute_result"
    }
   ],
   "source": [
    "# Si p_value > à 0.05 ,l'Hypothèse H0 est donc retenu. Il n'existe pas de dépendance entre le genre du client et les catégories de livre achetés\n",
    "# Si p-value < à 0.05 ,l'Hypothèse H1 est donc retenu.Il existe une dépendance entre le genre du client et les catégories de livre achet\n",
    "\n",
    "#Calcul du khi2 et de la p-value à partir de la matrice des valeurs observées avec scipy \n",
    "#Degré de liberté = (nombre de lignes – 1) X (nombre de colonnes – 1)\n",
    "chi2, pvalue, degrees, expected = st.chi2_contingency(cont)\n",
    "chi2, degrees, pvalue"
   ]
  },
  {
   "cell_type": "markdown",
   "metadata": {},
   "source": [
    " p-value (3e-29%) expose une valeur inférieure au seuil. L'hypothèse nulle est rejetée en faveur de l’hypothèse alternative, il existe donc un lien entre le sexe des clients et les catégories produits."
   ]
  },
  {
   "cell_type": "markdown",
   "metadata": {},
   "source": [
    "### 11.2 Analyse de la corrélation entre l'âge clients et le montant total des achats"
   ]
  },
  {
   "cell_type": "code",
   "execution_count": 59,
   "metadata": {},
   "outputs": [
    {
     "data": {
      "text/plain": [
       "Text(0.5, 1.0, 'Motant des achats par âges')"
      ]
     },
     "execution_count": 59,
     "metadata": {},
     "output_type": "execute_result"
    },
    {
     "data": {
      "image/png": "[encoded data removed]",
      "text/plain": [
       "<Figure size 432x288 with 1 Axes>"
      ]
     },
     "metadata": {
      "needs_background": "light"
     },
     "output_type": "display_data"
    }
   ],
   "source": [
    "age = data_complet.groupby([\"age\"])[\"client_id\"].count()\n",
    "age_price = data_complet.groupby([\"age\"])[\"price\"].sum().reset_index()\n",
    "\n",
    "#Visualisation avec un scatterplot (âge clients vs montant total des achats)\n",
    "sns.scatterplot(data= age_price['price'])\n",
    "plt.ylabel(\"Montant (€)\")\n",
    "plt.xlabel(\"Age (années)\")\n",
    "plt.title(\"Motant des achats par âges\")"
   ]
  },
  {
   "cell_type": "code",
   "execution_count": 60,
   "metadata": {},
   "outputs": [
    {
     "name": "stdout",
     "output_type": "stream",
     "text": [
      "Corrélation de Pearson: -0.7788810457117031\n"
     ]
    }
   ],
   "source": [
    "# Correlation entre l'age et le montant total des achats: Coefficient de corrélation linéaire de Pearson\n",
    "print(\"Corrélation de Pearson:\", st.pearsonr(age_price[\"age\"], age_price[\"price\"])[0])"
   ]
  },
  {
   "cell_type": "markdown",
   "metadata": {},
   "source": [
    "Le coefficient étant négatif,  on peut affirmer que plus les consommateurs sont agés plus le montant total de leur achat est faible."
   ]
  },
  {
   "cell_type": "markdown",
   "metadata": {},
   "source": [
    "### 11.3 Analyse de la corrélation entre l'âge clients et la fréquence d'achat"
   ]
  },
  {
   "cell_type": "code",
   "execution_count": 61,
   "metadata": {},
   "outputs": [
    {
     "data": {
      "text/html": [
       "<div>\n",
       "<style scoped>\n",
       "    .dataframe tbody tr th:only-of-type {\n",
       "        vertical-align: middle;\n",
       "    }\n",
       "\n",
       "    .dataframe tbody tr th {\n",
       "        vertical-align: top;\n",
       "    }\n",
       "\n",
       "    .dataframe thead th {\n",
       "        text-align: right;\n",
       "    }\n",
       "</style>\n",
       "<table border=\"1\" class=\"dataframe\">\n",
       "  <thead>\n",
       "    <tr style=\"text-align: right;\">\n",
       "      <th></th>\n",
       "      <th>age</th>\n",
       "      <th>freq</th>\n",
       "    </tr>\n",
       "  </thead>\n",
       "  <tbody>\n",
       "    <tr>\n",
       "      <th>0</th>\n",
       "      <td>19</td>\n",
       "      <td>15149</td>\n",
       "    </tr>\n",
       "    <tr>\n",
       "      <th>1</th>\n",
       "      <td>20</td>\n",
       "      <td>4371</td>\n",
       "    </tr>\n",
       "    <tr>\n",
       "      <th>2</th>\n",
       "      <td>21</td>\n",
       "      <td>4584</td>\n",
       "    </tr>\n",
       "    <tr>\n",
       "      <th>3</th>\n",
       "      <td>22</td>\n",
       "      <td>4252</td>\n",
       "    </tr>\n",
       "    <tr>\n",
       "      <th>4</th>\n",
       "      <td>23</td>\n",
       "      <td>4413</td>\n",
       "    </tr>\n",
       "  </tbody>\n",
       "</table>\n",
       "</div>"
      ],
      "text/plain": [
       "   age   freq\n",
       "0   19  15149\n",
       "1   20   4371\n",
       "2   21   4584\n",
       "3   22   4252\n",
       "4   23   4413"
      ]
     },
     "execution_count": 61,
     "metadata": {},
     "output_type": "execute_result"
    }
   ],
   "source": [
    "customers_freq = data_complet.groupby('age')[\"session_id\"].count().reset_index()\n",
    "customers_freq.rename(columns={'session_id': 'freq'}, inplace = True)\n",
    "\n",
    "customers_freq.head()"
   ]
  },
  {
   "cell_type": "code",
   "execution_count": 62,
   "metadata": {},
   "outputs": [
    {
     "data": {
      "text/plain": [
       "Text(0.5, 1.0, \"Fréquence mensuelle d'achat par âge\")"
      ]
     },
     "execution_count": 62,
     "metadata": {},
     "output_type": "execute_result"
    },
    {
     "data": {
      "image/png": "[encoded data removed]",
      "text/plain": [
       "<Figure size 432x288 with 1 Axes>"
      ]
     },
     "metadata": {
      "needs_background": "light"
     },
     "output_type": "display_data"
    }
   ],
   "source": [
    "#Visualisation avec un scatterplot (âge client vs fréquence d'achat mensuelle)\n",
    "sns.scatterplot(x=customers_freq['age'], y=customers_freq['freq'])\n",
    "plt.ylabel(\"Fréquences des achats\")\n",
    "plt.xlabel(\"Age (années)\")\n",
    "plt.title(\"Fréquence mensuelle d'achat par âge\")"
   ]
  },
  {
   "cell_type": "code",
   "execution_count": 68,
   "metadata": {},
   "outputs": [
    {
     "name": "stdout",
     "output_type": "stream",
     "text": [
      "Corrélation de Pearson:: -0.5337344271238335\n"
     ]
    }
   ],
   "source": [
    "#Coefficient de corrélation linéaire de Pearson\n",
    "print(\"Corrélation de Pearson::\", st.pearsonr(customers_freq.age, customers_freq.freq)[0])\n"
   ]
  },
  {
   "cell_type": "markdown",
   "metadata": {},
   "source": [
    "Le coefficient étant négatif,  on peut affirmer que plus l'âge augmente, plus la fréquence d'achat baisse."
   ]
  },
  {
   "cell_type": "markdown",
   "metadata": {},
   "source": [
    "### 11.4 Analyse de la corrélation entre l'âge clients et la taille du panier moyen"
   ]
  },
  {
   "cell_type": "code",
   "execution_count": 64,
   "metadata": {},
   "outputs": [
    {
     "data": {
      "text/html": [
       "<div>\n",
       "<style scoped>\n",
       "    .dataframe tbody tr th:only-of-type {\n",
       "        vertical-align: middle;\n",
       "    }\n",
       "\n",
       "    .dataframe tbody tr th {\n",
       "        vertical-align: top;\n",
       "    }\n",
       "\n",
       "    .dataframe thead th {\n",
       "        text-align: right;\n",
       "    }\n",
       "</style>\n",
       "<table border=\"1\" class=\"dataframe\">\n",
       "  <thead>\n",
       "    <tr style=\"text-align: right;\">\n",
       "      <th></th>\n",
       "      <th>age</th>\n",
       "      <th>price</th>\n",
       "      <th>session_id</th>\n",
       "    </tr>\n",
       "  </thead>\n",
       "  <tbody>\n",
       "    <tr>\n",
       "      <th>0</th>\n",
       "      <td>19</td>\n",
       "      <td>609013.69</td>\n",
       "      <td>15149</td>\n",
       "    </tr>\n",
       "    <tr>\n",
       "      <th>1</th>\n",
       "      <td>20</td>\n",
       "      <td>178195.78</td>\n",
       "      <td>4371</td>\n",
       "    </tr>\n",
       "    <tr>\n",
       "      <th>2</th>\n",
       "      <td>21</td>\n",
       "      <td>184177.35</td>\n",
       "      <td>4584</td>\n",
       "    </tr>\n",
       "    <tr>\n",
       "      <th>3</th>\n",
       "      <td>22</td>\n",
       "      <td>178497.70</td>\n",
       "      <td>4252</td>\n",
       "    </tr>\n",
       "    <tr>\n",
       "      <th>4</th>\n",
       "      <td>23</td>\n",
       "      <td>165007.98</td>\n",
       "      <td>4413</td>\n",
       "    </tr>\n",
       "  </tbody>\n",
       "</table>\n",
       "</div>"
      ],
      "text/plain": [
       "   age      price  session_id\n",
       "0   19  609013.69       15149\n",
       "1   20  178195.78        4371\n",
       "2   21  184177.35        4584\n",
       "3   22  178497.70        4252\n",
       "4   23  165007.98        4413"
      ]
     },
     "execution_count": 64,
     "metadata": {},
     "output_type": "execute_result"
    }
   ],
   "source": [
    "panier_moy = data_complet.groupby('age').agg({'price':'sum','session_id':'count'}).reset_index()\n",
    "panier_moy.head()\n"
   ]
  },
  {
   "cell_type": "code",
   "execution_count": 65,
   "metadata": {},
   "outputs": [
    {
     "data": {
      "text/html": [
       "<div>\n",
       "<style scoped>\n",
       "    .dataframe tbody tr th:only-of-type {\n",
       "        vertical-align: middle;\n",
       "    }\n",
       "\n",
       "    .dataframe tbody tr th {\n",
       "        vertical-align: top;\n",
       "    }\n",
       "\n",
       "    .dataframe thead th {\n",
       "        text-align: right;\n",
       "    }\n",
       "</style>\n",
       "<table border=\"1\" class=\"dataframe\">\n",
       "  <thead>\n",
       "    <tr style=\"text-align: right;\">\n",
       "      <th></th>\n",
       "      <th>age</th>\n",
       "      <th>price</th>\n",
       "      <th>session_id</th>\n",
       "      <th>panier_avg</th>\n",
       "    </tr>\n",
       "  </thead>\n",
       "  <tbody>\n",
       "    <tr>\n",
       "      <th>0</th>\n",
       "      <td>19</td>\n",
       "      <td>609013.69</td>\n",
       "      <td>15149</td>\n",
       "      <td>40.201577</td>\n",
       "    </tr>\n",
       "    <tr>\n",
       "      <th>1</th>\n",
       "      <td>20</td>\n",
       "      <td>178195.78</td>\n",
       "      <td>4371</td>\n",
       "      <td>40.767737</td>\n",
       "    </tr>\n",
       "    <tr>\n",
       "      <th>2</th>\n",
       "      <td>21</td>\n",
       "      <td>184177.35</td>\n",
       "      <td>4584</td>\n",
       "      <td>40.178305</td>\n",
       "    </tr>\n",
       "    <tr>\n",
       "      <th>3</th>\n",
       "      <td>22</td>\n",
       "      <td>178497.70</td>\n",
       "      <td>4252</td>\n",
       "      <td>41.979704</td>\n",
       "    </tr>\n",
       "    <tr>\n",
       "      <th>4</th>\n",
       "      <td>23</td>\n",
       "      <td>165007.98</td>\n",
       "      <td>4413</td>\n",
       "      <td>37.391339</td>\n",
       "    </tr>\n",
       "  </tbody>\n",
       "</table>\n",
       "</div>"
      ],
      "text/plain": [
       "   age      price  session_id  panier_avg\n",
       "0   19  609013.69       15149   40.201577\n",
       "1   20  178195.78        4371   40.767737\n",
       "2   21  184177.35        4584   40.178305\n",
       "3   22  178497.70        4252   41.979704\n",
       "4   23  165007.98        4413   37.391339"
      ]
     },
     "execution_count": 65,
     "metadata": {},
     "output_type": "execute_result"
    }
   ],
   "source": [
    "panier_moy['panier_avg']= panier_moy['price']/panier_moy['session_id']\n",
    "panier_moy.head()"
   ]
  },
  {
   "cell_type": "code",
   "execution_count": 66,
   "metadata": {},
   "outputs": [
    {
     "data": {
      "image/png": "[encoded data removed]",
      "text/plain": [
       "<Figure size 432x288 with 1 Axes>"
      ]
     },
     "metadata": {
      "needs_background": "light"
     },
     "output_type": "display_data"
    }
   ],
   "source": [
    "#Visualisation avec un scatterplot (âge client vs taille panier moyen)\n",
    "plt.plot(panier_moy.age, panier_moy.panier_avg, 'o', color='b')\n",
    "\n",
    "plt.xlabel('age')\n",
    "plt.ylabel('Panier moyen (Nbe de produits)')\n",
    "plt.title('Panier moyen en nombre de produits selon l\\'age client')\n",
    "\n",
    "\n",
    "plt.show()"
   ]
  },
  {
   "cell_type": "code",
   "execution_count": 73,
   "metadata": {},
   "outputs": [
    {
     "name": "stdout",
     "output_type": "stream",
     "text": [
      "Corrélation de Pearson:: -0.5478614363790837\n"
     ]
    }
   ],
   "source": [
    "# Correlation entre l'age et taille du panier\n",
    "#Coefficient de corrélation linéaire de Pearson\n",
    "print(\"Corrélation de Pearson::\", st.pearsonr(panier_moy[\"age\"], panier_moy[\"panier_avg\"])[0])"
   ]
  },
  {
   "cell_type": "markdown",
   "metadata": {},
   "source": [
    "le coeffient de correlation negatif, donc on une correlation negatif. Il existe 3 groupes d'ages"
   ]
  },
  {
   "cell_type": "markdown",
   "metadata": {},
   "source": [
    "### 11.5 Analyse de la corrélation entre l'âge clients et la catégorie produits"
   ]
  },
  {
   "cell_type": "markdown",
   "metadata": {},
   "source": [
    "L'âge des clients est-il différent en fonction de la catégorie d'achat ?\n",
    "\n",
    "- H0 : La moyenne des âges des clients est identique quelque soit la catégorie d'achat\n",
    "- H1 : Au moins l'une des moyennes des âges des clients est différentes en fonction de la catégorie d'achat\n",
    "- Condition de validation du test ANOVA :\n",
    "\n",
    "- Independence : On utilise la fonction sample() avec 1500 entrées\n",
    "- Normalité : On vérifie la normalité de la variable Âge. Pour cela, on utilise le test de Shapiro\n",
    "- Egalité des moyennes : on utilise  le test kurskal wallis "
   ]
  },
  {
   "cell_type": "code",
   "execution_count": 82,
   "metadata": {},
   "outputs": [
    {
     "data": {
      "image/png": "[encoded data removed]",
      "text/plain": [
       "<Figure size 720x432 with 1 Axes>"
      ]
     },
     "metadata": {
      "needs_background": "light"
     },
     "output_type": "display_data"
    }
   ],
   "source": [
    "#Affichage du boxplot \n",
    "sample_data = data_complet.sample(1500)\n",
    "plt.figure(figsize=(10,6))\n",
    "plt.title(\"Moyenne des âges en fonction de la catégorie\")\n",
    "sns.boxplot(data=sample_data, x=\"age\", y=\"categ\", orient=\"h\",showfliers=False, showmeans=True,medianprops={\"color\": \"coral\"})\n",
    "plt.show()"
   ]
  },
  {
   "cell_type": "markdown",
   "metadata": {},
   "source": [
    "Moyenne proche entre les catégories 0 et 1\n",
    "\n",
    "Dans un test ANOVA, on cherche à déterminer si les moyennes sont significativement différentes.\n",
    "\n",
    "H0 : Les moyennes de chaque groupe sont égales si p-value > 5% H1 : Les moyennes de chaque groupe ne sont pas toutes égales si p-value < 5%"
   ]
  },
  {
   "cell_type": "code",
   "execution_count": 69,
   "metadata": {},
   "outputs": [
    {
     "name": "stdout",
     "output_type": "stream",
     "text": [
      "H1 : Les données semblent respecter une loie normale\n",
      "p-value : 2.2639547436189775e-15\n"
     ]
    }
   ],
   "source": [
    "#Test de normalité\n",
    "stat, p = shapiro(sample_data[\"age\"])\n",
    "if p > 0.05:\n",
    "    print(\"H0 : Les données ne semblent pas respecter une loi normale\")\n",
    "    print(\"p-value :\",p)\n",
    "else:\n",
    "    print(\"H1 : Les données semblent respecter une loie normale\")\n",
    "    print(\"p-value :\",p)"
   ]
  },
  {
   "cell_type": "code",
   "execution_count": 84,
   "metadata": {},
   "outputs": [
    {
     "name": "stdout",
     "output_type": "stream",
     "text": [
      "Les moyennes des groupes sont significativement différentes.\n"
     ]
    },
    {
     "data": {
      "text/plain": [
       "KruskalResult(statistic=2324.8538589852888, pvalue=0.0)"
      ]
     },
     "execution_count": 84,
     "metadata": {},
     "output_type": "execute_result"
    }
   ],
   "source": [
    "# Si p < 0.05, on peut rejeter l'hypothèse nulle selon laquelle les moyennes des groupes sont égales\n",
    "if p < 0.05:\n",
    "    print(\"Les moyennes des groupes sont significativement différentes.\")\n",
    "else:\n",
    "    print(\"Les moyennes des groupes ne sont pas significativement différentes.\")\n",
    "from scipy import stats\n",
    "stats.kruskal(sample_data[\"age\"], sample_data[\"categ\"])"
   ]
  },
  {
   "cell_type": "code",
   "execution_count": 87,
   "metadata": {},
   "outputs": [
    {
     "name": "stdout",
     "output_type": "stream",
     "text": [
      "H1: une ou plus des moyennes des échantillons sont inégales\n",
      "pvalue :  0.0\n"
     ]
    }
   ],
   "source": [
    "# Test ANOVA\n",
    "from scipy.stats import f_oneway\n",
    "stat, p = f_oneway(sample_data[\"age\"], sample_data[\"categ\"])\n",
    "\n",
    "#stat, p = ttest_ind()\n",
    "\n",
    "if p > 0.05:\n",
    "    print(\"H0: les moyennes des échantillons sont égales\")\n",
    "    print(\"pvalue : \",p)\n",
    "else:\n",
    "    print(\"H1: une ou plus des moyennes des échantillons sont inégales\")\n",
    "    print(\"pvalue : \",p)"
   ]
  },
  {
   "cell_type": "markdown",
   "metadata": {},
   "source": [
    "Pour conclure, si au moins l'une des moyennes des échantillons sont inégales, cela signifique qu'il existe une corrélation entre l'âge du client et la catégorie des livres achetés"
   ]
  }
 ],
 "metadata": {
  "kernelspec": {
   "display_name": "Python 3",
   "language": "python",
   "name": "python3"
  },
  "language_info": {
   "codemirror_mode": {
    "name": "ipython",
    "version": 3
   },
   "file_extension": ".py",
   "mimetype": "text/x-python",
   "name": "python",
   "nbconvert_exporter": "python",
   "pygments_lexer": "ipython3",
   "version": "3.7.3"
  }
 },
 "nbformat": 4,
 "nbformat_minor": 2
}
